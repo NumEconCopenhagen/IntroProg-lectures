{
 "cells": [
  {
   "cell_type": "markdown",
   "metadata": {},
   "source": [
    "# Introduction"
   ]
  },
  {
   "attachments": {},
   "cell_type": "markdown",
   "metadata": {},
   "source": [
    "Test"
   ]
  },
  {
   "cell_type": "markdown",
   "metadata": {},
   "source": [
    "**Table of contents**<a id='toc0_'></a>    \n",
    "- 1. [VS Code](#toc1_)    \n",
    "- 2. [Jupyter notebooks](#toc2_)    \n",
    "- 3. [Solving the consumer problem with a numerical optimizer](#toc3_)    \n",
    "- 4. [Solving the consumer problem with a brute force grid search](#toc4_)    \n",
    "- 5. [Using modules](#toc5_)    \n",
    "\n",
    "<!-- vscode-jupyter-toc-config\n",
    "\tnumbering=true\n",
    "\tanchor=true\n",
    "\tflat=false\n",
    "\tminLevel=2\n",
    "\tmaxLevel=6\n",
    "\t/vscode-jupyter-toc-config -->\n",
    "<!-- THIS CELL WILL BE REPLACED ON TOC UPDATE. DO NOT WRITE YOUR TEXT IN THIS CELL -->"
   ]
  },
  {
   "attachments": {},
   "cell_type": "markdown",
   "metadata": {},
   "source": [
    "**Notes:** \n",
    "\n",
    "1. The course content you have *downloaded* with `Git` is continously updated\n",
    "2. My environment might look slightly different from yours\n",
    "2. Later you will also *upload* files with `Git`"
   ]
  },
  {
   "cell_type": "markdown",
   "metadata": {},
   "source": [
    "## 1. <a id='toc1_'></a>[VS Code](#toc0_)"
   ]
  },
  {
   "attachments": {},
   "cell_type": "markdown",
   "metadata": {},
   "source": [
    "1. An **integrated development environment (IDE)** for many languages\n",
    "2. **This window:** *Editor*\n",
    "3. **Side-bar on left:** *Explorer*\n",
    "4. `.ipynb` are **Jupyter notebooks** with text and code\n",
    "5. `.py` are files with **Python code**\n",
    "\n",
    "**Change theme?** Try `Ctrl+Shift+P` and search for \"theme\"."
   ]
  },
  {
   "cell_type": "markdown",
   "metadata": {},
   "source": [
    "## 2. <a id='toc2_'></a>[Jupyter notebooks](#toc0_)"
   ]
  },
  {
   "attachments": {},
   "cell_type": "markdown",
   "metadata": {},
   "source": [
    "This is a `text cell`, or more precisely a `markdown cell`.\n",
    "\n",
    "* Pres <kbd>Enter</kbd> to go to *edit mode*\n",
    "* Pres <kbd>Esc</kbd> to go to *command mode*\n",
    "* Pres <kbd>Ctrl+Enter</kbd> to *run* the cell\n",
    "* Pres <kbd>Shift+Enter</kbd> to *run* the cell + advance"
   ]
  },
  {
   "cell_type": "markdown",
   "metadata": {},
   "source": [
    "We can make lists:\n",
    "\n",
    "1. **First** item\n",
    "2. *Second* item\n",
    "3. ~~Third~~ item"
   ]
  },
  {
   "attachments": {},
   "cell_type": "markdown",
   "metadata": {},
   "source": [
    "We can also do LaTeX math, e.g. $\\alpha^2$ or\n",
    "\n",
    "$$\n",
    "X = \\int_0^{\\infty} \\frac{x}{x+1} dx\n",
    "$$"
   ]
  },
  {
   "attachments": {},
   "cell_type": "markdown",
   "metadata": {},
   "source": [
    "**Markdown:** Guide on [markdownguide.org/basic-syntax/](https://www.markdownguide.org/basic-syntax/)"
   ]
  },
  {
   "attachments": {},
   "cell_type": "markdown",
   "metadata": {},
   "source": [
    "`Code cells`:"
   ]
  },
  {
   "cell_type": "code",
   "execution_count": 1,
   "metadata": {},
   "outputs": [
    {
     "name": "stdout",
     "output_type": "stream",
     "text": [
      "50\n"
     ]
    }
   ],
   "source": [
    "# this is (a comment in) a code cell\n",
    "# let us do some calculations\n",
    "a = 20\n",
    "b = 30\n",
    "c = a+b\n",
    "\n",
    "# let us print the results (shown below the cell)\n",
    "print(c)"
   ]
  },
  {
   "cell_type": "markdown",
   "metadata": {},
   "source": [
    "We can now write some more text, and continue with our calculations."
   ]
  },
  {
   "cell_type": "code",
   "execution_count": 2,
   "metadata": {},
   "outputs": [
    {
     "name": "stdout",
     "output_type": "stream",
     "text": [
      "100\n",
      "150\n"
     ]
    }
   ],
   "source": [
    "d = c*2\n",
    "print(d)\n",
    "print(c*3)"
   ]
  },
  {
   "attachments": {},
   "cell_type": "markdown",
   "metadata": {},
   "source": [
    "**Task:** Write a new cell with `e = d**2` and run it."
   ]
  },
  {
   "attachments": {},
   "cell_type": "markdown",
   "metadata": {},
   "source": [
    ">**Useful shortcuts**: See this [guide](https://sites.google.com/view/numeconcph-introprog/guides/vscode).\n",
    ">1. Press `A` to *create* new code cell *above*\n",
    ">1. Press `B` to *create* new code cell *below* \n",
    ">2. Press `M` to change to `markdown cell`\n",
    ">3. Press `Y` to change to `code cell`\n",
    ">4. Press `D+D` to *delete* cell\n",
    "><br></br>"
   ]
  },
  {
   "cell_type": "markdown",
   "metadata": {},
   "source": [
    "## 3. <a id='toc3_'></a>[Solving the consumer problem with a numerical optimizer](#toc0_)"
   ]
  },
  {
   "attachments": {},
   "cell_type": "markdown",
   "metadata": {},
   "source": [
    "Consider the following consumer problem:\n",
    "\n",
    "$$\n",
    "\\begin{aligned}\n",
    "V(p_{1},p_{2},m) & = \\max_{x_{1},x_{2}} x_{1}^{\\alpha}x_{2}^{1-\\alpha}\\\\\n",
    " & \\text{s.t.}\\\\\n",
    "p_{1}x_{1}+p_{2}x_{2} & \\leq m \\\\\n",
    "x_{1},x_{2} & \\geq 0 \\\\\n",
    "p_{1},p_{2},m & > 0\n",
    "\\end{aligned}\n",
    "$$"
   ]
  },
  {
   "cell_type": "markdown",
   "metadata": {},
   "source": [
    "We can solve this problem _numerically_ in a few lines of code."
   ]
  },
  {
   "cell_type": "markdown",
   "metadata": {},
   "source": [
    "1. Choose some **parameters**:"
   ]
  },
  {
   "cell_type": "code",
   "execution_count": 3,
   "metadata": {},
   "outputs": [],
   "source": [
    "alpha = 0.5\n",
    "m = 10\n",
    "p1 = 1\n",
    "p2 = 2"
   ]
  },
  {
   "attachments": {},
   "cell_type": "markdown",
   "metadata": {},
   "source": [
    "**Note:** Try to click on *Variables* above to see the value of all variables."
   ]
  },
  {
   "cell_type": "markdown",
   "metadata": {},
   "source": [
    "2. The **consumer objective** is:"
   ]
  },
  {
   "cell_type": "code",
   "execution_count": 4,
   "metadata": {},
   "outputs": [],
   "source": [
    "def utility(x1,x2,alpha):\n",
    "    return x1**alpha * x2**(1-alpha)\n",
    "\n",
    "# def function_name(inputs):\n",
    "#    return outputs\n",
    "\n",
    "def value_of_choice(x1,alpha,m,p1,p2):\n",
    "    \n",
    "    # a. all income not spent on the first good\n",
    "    #    is spent on the second\n",
    "    x2 = (m-p1*x1)/p2 \n",
    "    \n",
    "    # b. the resulting utility is\n",
    "    u = utility(x1,x2,alpha)\n",
    "    \n",
    "    return u"
   ]
  },
  {
   "attachments": {},
   "cell_type": "markdown",
   "metadata": {},
   "source": [
    "3. We can now use a function from the `scipy` module to **solve the consumer problem**."
   ]
  },
  {
   "cell_type": "code",
   "execution_count": 5,
   "metadata": {},
   "outputs": [
    {
     "name": "stdout",
     "output_type": "stream",
     "text": [
      "5.000000000088435 2.4999999999557825 3.5355339059327378\n"
     ]
    }
   ],
   "source": [
    "# a. load external module from scipy\n",
    "from scipy import optimize\n",
    "\n",
    "# b. make value-of-choice as a funciton of only x1 \n",
    "obj = lambda x1: -value_of_choice(x1,alpha,m,p1,p2)\n",
    "\n",
    "# output = lambda input: expression(input)\n",
    "\n",
    "# c. call numerical minimizer\n",
    "solution = optimize.minimize_scalar(obj,bounds=(0,m/p1))\n",
    "\n",
    "# d. print result\n",
    "u = -solution.fun\n",
    "x1 = solution.x\n",
    "x2 = (m-x1*p1)/p2\n",
    "print(x1,x2,u)"
   ]
  },
  {
   "cell_type": "markdown",
   "metadata": {},
   "source": [
    "**Task**: Solve the consumer problem with the CES utility funciton.\n",
    "\n",
    "$$\n",
    "u(x_1,x_2) = (\\alpha x_1^{-\\beta} + (1-\\alpha) x_2^{-\\beta})^{-1/\\beta}\n",
    "$$"
   ]
  },
  {
   "cell_type": "code",
   "execution_count": 6,
   "metadata": {},
   "outputs": [],
   "source": [
    "# try to write your own code"
   ]
  },
  {
   "cell_type": "code",
   "execution_count": 7,
   "metadata": {},
   "outputs": [
    {
     "name": "stdout",
     "output_type": "stream",
     "text": [
      "4.99999685598185 2.500001572009075 3.535533693620822\n"
     ]
    }
   ],
   "source": [
    "# solution\n",
    "\n",
    "# a. choose parameters\n",
    "alpha = 0.5\n",
    "beta = 0.000001\n",
    "m = 10\n",
    "p1 = 1\n",
    "p2 = 2\n",
    "\n",
    "# b. value-of-choice\n",
    "def utility_ces(x1,x2,alpha,beta):\n",
    "    if x1 > 0 and x2 > 0:\n",
    "        return (alpha*x1**(-beta)+(1-alpha)*x2**(-beta))**(-1/beta) \n",
    "    else:\n",
    "        return 0\n",
    "\n",
    "def value_of_choice_ces(x1,alpha,beta,m,p1,p2):\n",
    "    x2 = (m-p1*x1)/p2\n",
    "    u = utility_ces(x1,x2,alpha,beta)\n",
    "    return u\n",
    "\n",
    "# c. objective\n",
    "obj = lambda x1: -value_of_choice_ces(x1,alpha,beta,m,p1,p2)\n",
    "\n",
    "# d. solve\n",
    "solution = optimize.minimize_scalar(obj,bounds=(0,m/p1))\n",
    "\n",
    "# e. result\n",
    "u_ces = -solution.fun\n",
    "x1_ces = solution.x\n",
    "x2_ces = (m-x1_ces*p1)/p2\n",
    "print(x1_ces,x2_ces,u_ces)"
   ]
  },
  {
   "cell_type": "markdown",
   "metadata": {},
   "source": [
    "## 4. <a id='toc4_'></a>[Solving the consumer problem with a brute force grid search](#toc0_)"
   ]
  },
  {
   "attachments": {},
   "cell_type": "markdown",
   "metadata": {},
   "source": [
    "Create vectors of potential choices:"
   ]
  },
  {
   "cell_type": "code",
   "execution_count": 8,
   "metadata": {},
   "outputs": [],
   "source": [
    "import numpy as np\n",
    "x1_vec = np.linspace(0,10,100) # try to hover over \"linspace\"\n",
    "x2_vec = np.linspace(0,10,100)"
   ]
  },
  {
   "attachments": {},
   "cell_type": "markdown",
   "metadata": {},
   "source": [
    "Use trial-and-error:"
   ]
  },
  {
   "cell_type": "code",
   "execution_count": 9,
   "metadata": {},
   "outputs": [
    {
     "name": "stdout",
     "output_type": "stream",
     "text": [
      "4.94949494949495 2.525252525252525 3.5353533352032596\n"
     ]
    }
   ],
   "source": [
    "x1_best = np.nan # nan = Not-a-Number\n",
    "x2_best = np.nan \n",
    "u_best = -np.inf # the worst it can get\n",
    "\n",
    "for x1 in x1_vec:\n",
    "    for x2 in x2_vec:\n",
    "        \n",
    "        if p1*x1 + p2*x2 <= m: # expenditure <= income\n",
    "\n",
    "            u_now = utility_ces(x1,x2,alpha,beta)\n",
    "        \n",
    "            if u_now > u_best: # better?\n",
    "                u_best = u_now # save best utility yet seen\n",
    "                x1_best = x1 # ... and choice\n",
    "                x2_best = x2\n",
    "\n",
    "print(x1_best,x2_best,u_best)"
   ]
  },
  {
   "attachments": {},
   "cell_type": "markdown",
   "metadata": {},
   "source": [
    "**Problem:** We get a lower utility than with the numerical optimizer..."
   ]
  },
  {
   "cell_type": "code",
   "execution_count": 10,
   "metadata": {},
   "outputs": [
    {
     "name": "stdout",
     "output_type": "stream",
     "text": [
      "-0.0001803584175625872\n"
     ]
    }
   ],
   "source": [
    "print(u_best-u_ces)"
   ]
  },
  {
   "attachments": {},
   "cell_type": "markdown",
   "metadata": {},
   "source": [
    "**Task:** Can you improve the brute force solution?"
   ]
  },
  {
   "cell_type": "markdown",
   "metadata": {},
   "source": [
    "## 5. <a id='toc5_'></a>[Using modules](#toc0_)"
   ]
  },
  {
   "cell_type": "markdown",
   "metadata": {},
   "source": [
    "A **module** is a **.py**-file with functions you import and can then call in the notebook.\n",
    "\n",
    "Try to open **mymodule.py** and have a look."
   ]
  },
  {
   "cell_type": "code",
   "execution_count": 11,
   "metadata": {},
   "outputs": [],
   "source": [
    "import mymodule"
   ]
  },
  {
   "cell_type": "code",
   "execution_count": 12,
   "metadata": {},
   "outputs": [
    {
     "name": "stdout",
     "output_type": "stream",
     "text": [
      "25\n"
     ]
    }
   ],
   "source": [
    "x = 5\n",
    "y = mymodule.myfunction(x) # try pressing F12 with cursor at \"myfunction\"\n",
    "print(y)"
   ]
  },
  {
   "attachments": {},
   "cell_type": "markdown",
   "metadata": {},
   "source": [
    "**Task**: Create `mynewmodule.py` with a function you choose and call it from this notebook."
   ]
  }
 ],
 "metadata": {
  "kernelspec": {
   "display_name": "base",
   "language": "python",
   "name": "python3"
  },
  "language_info": {
   "codemirror_mode": {
    "name": "ipython",
    "version": 3
   },
   "file_extension": ".py",
   "mimetype": "text/x-python",
   "name": "python",
   "nbconvert_exporter": "python",
   "pygments_lexer": "ipython3",
   "version": "3.9.15 (main, Nov 24 2022, 14:39:17) [MSC v.1916 64 bit (AMD64)]"
  },
  "toc-autonumbering": true,
  "vscode": {
   "interpreter": {
    "hash": "47ef90cdf3004d3f859f1fb202523c65c07ba7c22eefd261b181f4744e2d0403"
   }
  }
 },
 "nbformat": 4,
 "nbformat_minor": 4
}
