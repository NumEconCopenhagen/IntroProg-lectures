{
 "cells": [
  {
   "cell_type": "markdown",
   "id": "bc91d7fb-e3d5-4c13-a629-4b55d9ff2ac4",
   "metadata": {},
   "source": [
    "# Get members of groups based on Github repositories\n",
    "Used for finding out exercise class membership "
   ]
  },
  {
   "cell_type": "code",
   "execution_count": null,
   "id": "a9aa84c5-e3be-41ae-b4aa-3def3bd47f0c",
   "metadata": {},
   "outputs": [],
   "source": [
    "from github import Github # pip install PyGithub\n",
    "import sys\n",
    "import datetime\n",
    "import pandas as pd\n",
    "import numpy as np\n",
    "import random\n",
    "from collections import Counter"
   ]
  },
  {
   "cell_type": "code",
   "execution_count": null,
   "id": "540963f2-db10-4e8c-8f8d-5da423573c10",
   "metadata": {},
   "outputs": [],
   "source": [
    "# load personal access token\n",
    "with open(\"C:/Users/gmf123/Dropbox/github_token.txt\", mode = \"r\") as file:\n",
    "    token = file.read()\n",
    "\n",
    "year = \"2023\"    \n",
    "class_name = \"projects-\" + year"
   ]
  },
  {
   "cell_type": "markdown",
   "id": "0f19d918-7c7a-492e-8b73-6fa837277677",
   "metadata": {},
   "source": [
    "### Load all repositories in this year's class room"
   ]
  },
  {
   "cell_type": "code",
   "execution_count": null,
   "id": "8838852a-b033-476c-827f-5e6485cceec5",
   "metadata": {},
   "outputs": [],
   "source": [
    "# a. access github through access token.\n",
    "gh = Github(token)\n",
    "org = gh.get_organization('NumEconCopenhagen')\n",
    "all_repos = org.get_repos()\n",
    "\n",
    "# b. locate all repositories in current class\n",
    "disregard_repos = []\n",
    "\n",
    "current_class = [repo.name for repo in all_repos if (class_name in repo.name) & (repo.name not in disregard_repos)]"
   ]
  },
  {
   "cell_type": "code",
   "execution_count": null,
   "id": "f9c270f2",
   "metadata": {},
   "outputs": [],
   "source": [
    "# see this years' repos\n",
    "for r in current_class:\n",
    "    print(r.removeprefix(class_name+\"-\"))"
   ]
  },
  {
   "attachments": {},
   "cell_type": "markdown",
   "id": "98cc5c4e",
   "metadata": {},
   "source": [
    "### Get members"
   ]
  },
  {
   "cell_type": "code",
   "execution_count": null,
   "id": "bc7244d4-f84c-45e9-8f05-fa2370d830cb",
   "metadata": {},
   "outputs": [],
   "source": [
    "class_repos = []\n",
    "groups = {}\n",
    "admins = [\"AndersMunkN\", \"JeppeDruedahl\", \"ChristianLangholzCarstensen\"]\n",
    "students = []\n",
    "\n",
    "for repo in all_repos:\n",
    "\n",
    "    if repo.name not in current_class: continue\n",
    "    \n",
    "    # get the set of collaborators for a repo - remove organization admins\n",
    "    collaborators = repo.get_collaborators().get_page(0)\n",
    "    members = [c.login for c in collaborators if c.login not in admins] \n",
    "    \n",
    "    # add members to dictionary and to list of all students\n",
    "    grp_name = repo.name.removeprefix(class_name+\"-\")  \n",
    "    groups[grp_name] = members\n",
    "    \n",
    "    students.extend(members)\n"
   ]
  },
  {
   "attachments": {},
   "cell_type": "markdown",
   "id": "925e11a1",
   "metadata": {},
   "source": [
    "### To Excel"
   ]
  },
  {
   "cell_type": "code",
   "execution_count": null,
   "id": "e37dc43c-9983-4f85-93c3-69720ec24a7a",
   "metadata": {},
   "outputs": [],
   "source": [
    "gd = {k:pd.Series(v,dtype='str') for k,v in groups.items()}\n",
    "\n",
    "groups_df = pd.DataFrame(gd) \n",
    "groups_df = groups_df.T\n",
    "groups_df.rename(columns = {0:'Member1',1:'Member2',2:'Member3'}, inplace=True)\n",
    "groups_df.fillna('',inplace=True)\n",
    "\n",
    "groups_df.sort_index(inplace=True)\n",
    "\n",
    "for col in ['Exercise class','Inaugural','Data','Model','Comments']:\n",
    "    groups_df[col] = ''"
   ]
  },
  {
   "cell_type": "code",
   "execution_count": null,
   "id": "c028a007-41a6-4452-8015-430932d78e3c",
   "metadata": {},
   "outputs": [],
   "source": [
    "groups_df.reset_index(inplace=True)\n",
    "groups_df.rename(columns={'index':'Group'}, inplace=True)\n",
    "groups_df.head()"
   ]
  },
  {
   "cell_type": "code",
   "execution_count": null,
   "id": "82ed10a2-5ebe-4488-be2e-cf50742c1239",
   "metadata": {
    "tags": []
   },
   "outputs": [],
   "source": [
    "groups_df.to_excel('Groups.xlsx',index=False)"
   ]
  }
 ],
 "metadata": {
  "kernelspec": {
   "display_name": "base",
   "language": "python",
   "name": "python3"
  },
  "language_info": {
   "codemirror_mode": {
    "name": "ipython",
    "version": 3
   },
   "file_extension": ".py",
   "mimetype": "text/x-python",
   "name": "python",
   "nbconvert_exporter": "python",
   "pygments_lexer": "ipython3",
   "version": "3.9.15"
  },
  "vscode": {
   "interpreter": {
    "hash": "47ef90cdf3004d3f859f1fb202523c65c07ba7c22eefd261b181f4744e2d0403"
   }
  }
 },
 "nbformat": 4,
 "nbformat_minor": 5
}
