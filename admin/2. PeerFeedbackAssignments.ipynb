{
 "cells": [
  {
   "cell_type": "markdown",
   "id": "7ac22349",
   "metadata": {},
   "source": [
    "# Assignment of peer feedback\n",
    "\n",
    "This notebook contains the code used to determine which two other teams each team must give feed back to in the data project"
   ]
  },
  {
   "cell_type": "code",
   "execution_count": null,
   "id": "5410363f",
   "metadata": {},
   "outputs": [],
   "source": [
    "from github import Github # pip install PyGithub\n",
    "import sys\n",
    "import datetime\n",
    "import pandas as pd\n",
    "import numpy as np\n",
    "import random\n",
    "from collections import Counter"
   ]
  },
  {
   "cell_type": "code",
   "execution_count": null,
   "id": "f8416716-01c3-47c3-9b7e-3e14337638dc",
   "metadata": {},
   "outputs": [],
   "source": [
    "# load personal access token\n",
    "with open(\"C:/Users/gmf123/Dropbox/github_token.txt\", mode = \"r\") as file:\n",
    "    token = file.read()\n",
    "\n",
    "year = \"2023\"    \n",
    "class_name = \"projects-\" + year    "
   ]
  },
  {
   "cell_type": "markdown",
   "id": "0f19d918-7c7a-492e-8b73-6fa837277677",
   "metadata": {},
   "source": [
    "### Load all repositories in this year's class room"
   ]
  },
  {
   "cell_type": "code",
   "execution_count": null,
   "id": "6348ec1d-b9f1-4984-97c5-1e247fc42ecb",
   "metadata": {},
   "outputs": [],
   "source": [
    "# a. access github through access token\n",
    "gh = Github(token)\n",
    "org = gh.get_organization('NumEconCopenhagen')\n",
    "all_repos = org.get_repos()\n",
    "\n",
    "# b. locate all repositories in current class \n",
    "class_name = \"projects-\" + year\n",
    "current_class = [repo.name for repo in all_repos if class_name in repo.name]"
   ]
  },
  {
   "attachments": {},
   "cell_type": "markdown",
   "id": "2dfbc175",
   "metadata": {},
   "source": [
    "### All teams"
   ]
  },
  {
   "cell_type": "code",
   "execution_count": null,
   "id": "8503d273-9d55-4851-a77a-1653f040a478",
   "metadata": {},
   "outputs": [],
   "source": [
    "disregard_repos = [] # manually add"
   ]
  },
  {
   "cell_type": "code",
   "execution_count": null,
   "id": "0ceff6d1",
   "metadata": {},
   "outputs": [],
   "source": [
    "teams = set()\n",
    "i = 1\n",
    "for repo in all_repos:\n",
    "    if repo.name not in current_class: continue\n",
    "    if repo.name in disregard_repos: continue \n",
    "    teams.add(repo.name[14:])\n",
    "    i += 1"
   ]
  },
  {
   "attachments": {},
   "cell_type": "markdown",
   "id": "863e231f",
   "metadata": {},
   "source": [
    "### Excel sheets"
   ]
  },
  {
   "cell_type": "code",
   "execution_count": null,
   "id": "5153f517",
   "metadata": {},
   "outputs": [],
   "source": [
    "random.seed(123)\n",
    "for k in range(10):\n",
    "\n",
    "    try:\n",
    "\n",
    "        for projectname in ['inauguralproject', 'dataproject', 'modelproject']:\n",
    "\n",
    "            # a. create data frame\n",
    "            teams_df = pd.DataFrame(data=teams,columns=['team'])\n",
    "            teams_df.sort_values(by='team',inplace=True)\n",
    "            teams_df.reset_index(drop=True, inplace=True)\n",
    "            teams_df['peer_group_1'] = np.nan\n",
    "            teams_df['peer_group_2'] = np.nan\n",
    "\n",
    "            # b. assign peers to teams\n",
    "            N = len(teams_df.team.values)\n",
    "            counter = [0 for _ in range(N)]\n",
    "            assigned = []\n",
    "\n",
    "            # for each team, loop over teams that have not already been assigned\n",
    "            for i,_ in enumerate(teams_df.team):\n",
    "                pop = [t for t in range(N) if (t != i) & (t not in assigned)]\n",
    "                peers = random.sample(pop, 2)    \n",
    "                for c in [0,1]:\n",
    "                    teams_df.iloc[i, 1 + c] = teams_df.team[peers[c]]\n",
    "                    counter[peers[c]] += 1\n",
    "                    if counter[peers[c]] == 2:\n",
    "                        assigned.append(peers[c])\n",
    "\n",
    "            teams_df.to_excel(f'PeerAssignment_{projectname}.xlsx',index=False)\n",
    "\n",
    "        print(f'attempt {k+1} was successful')\n",
    "        break\n",
    "\n",
    "    except:\n",
    "\n",
    "        print(f'attempt {k+1} failed ')"
   ]
  }
 ],
 "metadata": {
  "kernelspec": {
   "display_name": "base",
   "language": "python",
   "name": "python3"
  },
  "language_info": {
   "codemirror_mode": {
    "name": "ipython",
    "version": 3
   },
   "file_extension": ".py",
   "mimetype": "text/x-python",
   "name": "python",
   "nbconvert_exporter": "python",
   "pygments_lexer": "ipython3",
   "version": "3.9.15"
  },
  "toc-autonumbering": false,
  "vscode": {
   "interpreter": {
    "hash": "47ef90cdf3004d3f859f1fb202523c65c07ba7c22eefd261b181f4744e2d0403"
   }
  }
 },
 "nbformat": 4,
 "nbformat_minor": 5
}
