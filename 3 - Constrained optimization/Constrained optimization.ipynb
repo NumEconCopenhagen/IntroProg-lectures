{
 "cells": [
  {
   "cell_type": "markdown",
   "metadata": {},
   "source": [
    "# Constrained optimization"
   ]
  },
  {
   "cell_type": "markdown",
   "metadata": {},
   "source": [
    "**Table of contents**<a id='toc0_'></a>    \n",
    "- 1. [In general](#toc1_)    \n",
    "- 2. [Economic application](#toc2_)    \n",
    "\n",
    "<!-- vscode-jupyter-toc-config\n",
    "\tnumbering=true\n",
    "\tanchor=true\n",
    "\tflat=false\n",
    "\tminLevel=2\n",
    "\tmaxLevel=6\n",
    "\t/vscode-jupyter-toc-config -->\n",
    "<!-- THIS CELL WILL BE REPLACED ON TOC UPDATE. DO NOT WRITE YOUR TEXT IN THIS CELL -->"
   ]
  },
  {
   "attachments": {},
   "cell_type": "markdown",
   "metadata": {},
   "source": [
    "You will learn to *numerically* solve *constrained* optimization problems (with **scipy.optimize**)."
   ]
  },
  {
   "attachments": {},
   "cell_type": "markdown",
   "metadata": {},
   "source": [
    "**scipy.optimize:** [overview](https://docs.scipy.org/doc/scipy/reference/optimize.html)"
   ]
  },
  {
   "cell_type": "code",
   "execution_count": 1,
   "metadata": {},
   "outputs": [],
   "source": [
    "import numpy as np\n",
    "import matplotlib.pyplot as plt\n",
    "plt.rcParams.update({\"axes.grid\":True,\"grid.color\":\"black\",\"grid.alpha\":\"0.25\",\"grid.linestyle\":\"--\"})\n",
    "plt.rcParams.update({'font.size': 14})\n",
    "\n",
    "from types import SimpleNamespace\n",
    "from copy import deepcopy\n",
    "import time\n",
    "\n",
    "from scipy import optimize"
   ]
  },
  {
   "cell_type": "markdown",
   "metadata": {},
   "source": [
    "## 1. <a id='toc1_'></a>[In general](#toc0_)"
   ]
  },
  {
   "cell_type": "markdown",
   "metadata": {},
   "source": [
    "Consider the **constrained problem**:"
   ]
  },
  {
   "cell_type": "markdown",
   "metadata": {},
   "source": [
    "$$\n",
    "\\min_{x_1,x_2,x_3,x_4} x_1x_4(x_1+x_2+x_3) + x_3\n",
    "$$\n",
    "\n",
    "subject to\n",
    "\n",
    "$$\n",
    "\\begin{aligned}\n",
    "x_1x_2x_3x_4 &\\geq 25 \\\\\n",
    "x_1^2+x_2^2+x_3^2+x_4^2 &= 40 \\\\\n",
    "1 \\leq x_1,x_2,x_3,x_4 &\\leq 5\n",
    "\\end{aligned}\n",
    "$$"
   ]
  },
  {
   "cell_type": "markdown",
   "metadata": {},
   "source": [
    "Define **objective** and **constraints**:"
   ]
  },
  {
   "cell_type": "code",
   "execution_count": 2,
   "metadata": {},
   "outputs": [],
   "source": [
    "def _objective(x1,x2,x3,x4):\n",
    "    return x1*x4*(x1+x2+x3)+x3\n",
    "\n",
    "def objective(x):\n",
    "    return _objective(x[0],x[1],x[2],x[3])\n",
    "\n",
    "def ineq_constraint(x):\n",
    "    return x[0]*x[1]*x[2]*x[3]-25.0 # violated if negative\n",
    "\n",
    "def eq_constraint(x):\n",
    "    return np.sum(x**2)-40.0 # must equal zero"
   ]
  },
  {
   "cell_type": "markdown",
   "metadata": {},
   "source": [
    "**Chocie of optimizer:** SLSQP"
   ]
  },
  {
   "cell_type": "code",
   "execution_count": 3,
   "metadata": {},
   "outputs": [
    {
     "name": "stdout",
     "output_type": "stream",
     "text": [
      "Optimization terminated successfully    (Exit mode 0)\n",
      "            Current function value: 17.014017289044375\n",
      "            Iterations: 9\n",
      "            Function evaluations: 46\n",
      "            Gradient evaluations: 9\n",
      "\n",
      "x =  [1.         4.74299968 3.82114992 1.3794083 ]\n"
     ]
    }
   ],
   "source": [
    "# a. setup\n",
    "bound = (1.0,5.0)\n",
    "bounds = (bound, bound, bound, bound)\n",
    "ineq_con = {'type': 'ineq', 'fun': ineq_constraint} \n",
    "eq_con = {'type': 'eq', 'fun': eq_constraint}\n",
    "\n",
    "# b. call optimizer\n",
    "x0 = (40**(1/8),40**(1/8),40**(1/8),40**(1/8)) # fit the equality constraint\n",
    "result = optimize.minimize(objective,x0,\n",
    "                             method='SLSQP',\n",
    "                             bounds=bounds,\n",
    "                             constraints=[ineq_con,eq_con],\n",
    "                             options={'disp':True})\n",
    "\n",
    "print('\\nx = ',result.x)"
   ]
  },
  {
   "attachments": {},
   "cell_type": "markdown",
   "metadata": {},
   "source": [
    "Manual check of constraints:"
   ]
  },
  {
   "cell_type": "code",
   "execution_count": 4,
   "metadata": {},
   "outputs": [
    {
     "name": "stdout",
     "output_type": "stream",
     "text": [
      "ineq_constraint(result.x) = -1.4382450785888068e-10\n",
      "eq_constraint(result.x) = 2.0128254618612118e-10\n"
     ]
    }
   ],
   "source": [
    "print(f'{ineq_constraint(result.x) = }')\n",
    "assert np.isclose(ineq_constraint(result.x),0.0) or ineq_constraint(result.x) >= 0.0\n",
    "\n",
    "print(f'{eq_constraint(result.x) = }')\n",
    "assert np.isclose(eq_constraint(result.x),0.0)"
   ]
  },
  {
   "cell_type": "markdown",
   "metadata": {},
   "source": [
    "## 2. <a id='toc2_'></a>[Economic application](#toc0_)"
   ]
  },
  {
   "cell_type": "markdown",
   "metadata": {},
   "source": [
    "Consider the following **consumption-saving problem**:\n",
    "\n",
    "$$\n",
    "\\begin{aligned}\n",
    "V(a_0) &= \\max_{c_1,c_2,c_3} \\frac{c_{1}^{1-\\rho}}{1-\\rho} + \\beta \\frac{c_{2}^{1-\\rho}}{1-\\rho} + \\beta^2\\frac{c_{3}^{1-\\rho}}{1-\\rho} + \\beta^2\\nu\\frac{(a_{3}+\\kappa)^{1-\\rho}}{1-\\rho}\\\\\n",
    "&\\text{s.t.}&\\\\\n",
    "m_1 &= (1+r)a_0 + y_1\\\\\n",
    "a_1 &= m_1-c_1\\\\\n",
    "m_2 &= (1+r)a_1 + y_2\\\\\n",
    "a_2 &= m_2-c_2\\\\\n",
    "m_3 &= (1+r)a_2 + y_3\\\\\n",
    "a_3 &= m_3-c_3\\\\\n",
    "c_1,c_2,c_3 &\\geq 0\\\\\n",
    "a_1,a_2,a_3 &\\geq 0\\\\\n",
    "\\end{aligned}\n",
    "$$\n",
    "\n",
    "where \n",
    "\n",
    "* $m_t$ is cash-on-hand in period $t\\in\\{1,2,\\dots,T\\}$\n",
    "* $c_t$ is consumption $t$\n",
    "* $a_t$ is end-of-period assets and income in period $t$\n",
    "* ${y_t}$ is income in period $t$\n",
    "* $\\beta > 0$ is the discount factor\n",
    "* $r > -1$ is the interest rate \n",
    "* $\\rho > 1$ is the CRRA coefficient\n",
    "* $\\nu > 0 $ is the strength of the bequest motive\n",
    "* $\\kappa > 0$ is the degree of luxuriousness in the bequest motive  \n",
    "* $a_t\\geq0$ is a no-borrowing constraint.\n",
    "\n",
    "**First order conditions:**\n",
    "\n",
    "* Period 1: If $a_1 > 0$ then $c_1^{-\\rho} = \\beta(1+r)c_2^{-\\rho}$.\n",
    "* Period 2: If $a_2 > 0$ then $c_2^{-\\rho} = \\beta(1+r)c_3^{-\\rho}$.\n",
    "* Period 3: If $a_3 > 0$ then $c_3^{-\\rho} = \\nu(a_3+\\kappa)^{-\\rho}$."
   ]
  },
  {
   "cell_type": "markdown",
   "metadata": {},
   "source": [
    "**Guide to solve such problem:**\n",
    "\n",
    "1. Setup parameters\n",
    "2. Formulate objective function\n",
    "3. Determine how to handle constraints\n",
    "4. Call optimizer"
   ]
  },
  {
   "cell_type": "markdown",
   "metadata": {},
   "source": [
    "**Parameters:**"
   ]
  },
  {
   "cell_type": "code",
   "execution_count": 5,
   "metadata": {},
   "outputs": [],
   "source": [
    "par = SimpleNamespace()\n",
    "par.a0 = 0.25\n",
    "par.beta = 0.94\n",
    "par.r = 0.04\n",
    "par.rho = 2.0\n",
    "par.kappa = 0.5\n",
    "par.nu = 10.0\n",
    "par.T = 3\n",
    "par.y = np.ones(par.T)\n",
    "par.y[0] = 0.0"
   ]
  },
  {
   "cell_type": "markdown",
   "metadata": {},
   "source": [
    "**Objetive function:**"
   ]
  },
  {
   "cell_type": "code",
   "execution_count": 6,
   "metadata": {},
   "outputs": [],
   "source": [
    "def evaluate(c,par,penalty_factor=10_000):\n",
    "    \"\"\" evaluate model and calculate utility and penalty if constraints are not satisfies \"\"\"\n",
    "    \n",
    "    # a. allocate\n",
    "    a = np.zeros(par.T) # end-of-period assets\n",
    "    m = np.zeros(par.T) # cash-on-hand\n",
    "    cb = np.zeros(par.T) # bounded consumption, defined below\n",
    "    \n",
    "    # b. bound consumption and penalty\n",
    "    penalty = 0.0\n",
    "    for t in range(par.T): # period-by-period\n",
    "        \n",
    "        # i. lagged assets\n",
    "        a_lag = a[t-1] if t > 0 else par.a0\n",
    "        \n",
    "        # ii. cash-on-hand\n",
    "        m[t] = (1+par.r)*a_lag + par.y[t]\n",
    "        \n",
    "        # ii. bound consumption\n",
    "        if c[t] < 1e-8: # too low\n",
    "            cb[t] = 1e-8\n",
    "            penalty += penalty_factor*np.abs(c[t]-1e-8)            \n",
    "        elif c[t] > m[t]: # too high\n",
    "            cb[t] = m[t]\n",
    "            penalty += penalty_factor*np.abs(c[t]-m[t])\n",
    "        else: # just fine\n",
    "            cb[t] = c[t]\n",
    "        \n",
    "        # d. end-of-period assets \n",
    "        a[t] = m[t] - cb[t]\n",
    "            \n",
    "    # c. utility\n",
    "    total_utility = 0.0\n",
    "    \n",
    "    # i. consumption\n",
    "    for t in range(par.T):\n",
    "        discounting = par.beta**t\n",
    "        per_period_utility = cb[t]**(1-par.rho)/(1-par.rho)\n",
    "        total_utility += discounting*per_period_utility\n",
    "    \n",
    "    # ii. bequest\n",
    "    discounting = par.beta**(par.T-1)\n",
    "    bequest_utility = par.nu*(a[-1]+par.kappa)**(1-par.rho)/(1-par.rho)\n",
    "    total_utility += discounting*bequest_utility\n",
    "        \n",
    "    # d. return\n",
    "    return total_utility,penalty,m,a\n",
    "    \n",
    "def obj(c,par,penalty_factor=10_000):\n",
    "    \"\"\" gateway to evaluate() for optimizer \"\"\"\n",
    "    \n",
    "    utility,penalty,_m,_a = evaluate(c,par,penalty_factor)\n",
    "    \n",
    "    return -utility + penalty\n"
   ]
  },
  {
   "cell_type": "markdown",
   "metadata": {},
   "source": [
    "**Solve:**"
   ]
  },
  {
   "cell_type": "code",
   "execution_count": 7,
   "metadata": {},
   "outputs": [],
   "source": [
    "def solve(par,tol=1e-8):\n",
    "    \"\"\" solve model \"\"\"\n",
    "    \n",
    "    # a. initial geuss\n",
    "    x0 = 0.1*np.ones(par.T) # equal consumption\n",
    "    \n",
    "    # b. solve\n",
    "    t0 = time.time()\n",
    "    results = optimize.minimize(obj,x0,args=(par,),\n",
    "                                method='Nelder-Mead',\n",
    "                                options={'xatol':tol,'fatol':tol,'maxiter':50_000})\n",
    "\n",
    "    if not results.success:\n",
    "        print(results)\n",
    "        raise ValueError\n",
    "    \n",
    "    print(f'solved model in {time.time()-t0:.3f} secs [nit: {results.nit}, nfev: {results.nfev}]\\n')\n",
    "    \n",
    "    # show results\n",
    "    show(par,results)\n",
    "\n",
    "def show(par,results):\n",
    "    \"\"\" show results \"\"\"\n",
    "    \n",
    "    # final evaluation\n",
    "    c = results.x\n",
    "    total_utility,penalty,m,a = evaluate(c,par)\n",
    "    assert np.isclose(penalty,0.0)\n",
    "\n",
    "    # print\n",
    "    print(f't =  0: a = {par.a0:.4f}')\n",
    "    for t in range(par.T):\n",
    "        print(f't = {t+1:2d}: y = {par.y[t]:7.4f}, m = {m[t]:7.4f}, c = {c[t]:7.4f}, a = {a[t]:7.4f} ')    \n",
    "    \n",
    "    print(f'\\ntotal utility = {total_utility:.8f} [penalty = {penalty:.4f}]\\n')\n",
    "    \n",
    "    # FOC errors\n",
    "    for t in range(par.T):\n",
    "        \n",
    "        if t < par.T-1:\n",
    "            foc_error = c[t]**(-par.rho) - par.beta*(1+par.r)*c[t+1]**(-par.rho)\n",
    "        else:\n",
    "            foc_error = c[t]**(-par.rho) - par.nu*(a[t]+par.kappa)**(-par.rho)\n",
    "            \n",
    "        print(f'FOC error in period {t+1:2d}: {foc_error:12.8f}')    "
   ]
  },
  {
   "attachments": {},
   "cell_type": "markdown",
   "metadata": {},
   "source": [
    "**Pause:** Ensure you understand the code cells above."
   ]
  },
  {
   "cell_type": "code",
   "execution_count": 8,
   "metadata": {},
   "outputs": [
    {
     "name": "stdout",
     "output_type": "stream",
     "text": [
      "solved model in 0.034 secs [nit: 437, nfev: 775]\n",
      "\n",
      "t =  0: a = 0.2500\n",
      "t =  1: y =  0.0000, m =  0.2600, c =  0.2600, a =  0.0000 \n",
      "t =  2: y =  1.0000, m =  1.0000, c =  0.4927, a =  0.5073 \n",
      "t =  3: y =  1.0000, m =  1.5276, c =  0.4871, a =  1.0405 \n",
      "\n",
      "total utility = -13.30383959 [penalty = 0.0000]\n",
      "\n",
      "FOC error in period  1:  10.76556375\n",
      "FOC error in period  2:  -0.00000014\n",
      "FOC error in period  3:  -0.00000005\n"
     ]
    }
   ],
   "source": [
    "solve(par)"
   ]
  },
  {
   "attachments": {},
   "cell_type": "markdown",
   "metadata": {},
   "source": [
    "**Task:** Solve the model with $T$ to 4 with $y_1 = 0.0$ and $y_2,y_3,y_4=1$.\n",
    "\n",
    "\n",
    "$$\n",
    "\\begin{aligned}\n",
    "V(a_0) &= \\max_{c_1,c_2,\\dots c_T} \\sum_{t=1}^T \\beta^{t-1} \\frac{c_{t}^{1-\\rho}}{1-\\rho} + \\beta^{T-1}\\nu\\frac{(a_{T}+\\kappa)^{1-\\rho}}{1-\\rho}\\\\\n",
    "&\\text{s.t.}&\\\\\n",
    "m_t &= (1+r)a_{t-1} + y_t\\\\\n",
    "c_t &\\geq 0\\\\\n",
    "a_t &\\geq 0\n",
    "\\end{aligned}\n",
    "$$"
   ]
  },
  {
   "cell_type": "code",
   "execution_count": 9,
   "metadata": {},
   "outputs": [],
   "source": [
    "# write your code here"
   ]
  },
  {
   "attachments": {},
   "cell_type": "markdown",
   "metadata": {},
   "source": [
    "**Follow-up question:** What are the problems for $T \\rightarrow \\infty$?"
   ]
  },
  {
   "attachments": {},
   "cell_type": "markdown",
   "metadata": {},
   "source": [
    "**Note:** We can solve an *intertemporal* problem *as-if* it was a static problem, because there is *no risk*.<br>\n",
    "For more general problems *with risk*, we need *dynamic optimization*."
   ]
  }
 ],
 "metadata": {
  "kernelspec": {
   "display_name": "base",
   "language": "python",
   "name": "python3"
  },
  "language_info": {
   "codemirror_mode": {
    "name": "ipython",
    "version": 3
   },
   "file_extension": ".py",
   "mimetype": "text/x-python",
   "name": "python",
   "nbconvert_exporter": "python",
   "pygments_lexer": "ipython3",
   "version": "3.9.15"
  },
  "toc-autonumbering": true,
  "vscode": {
   "interpreter": {
    "hash": "47ef90cdf3004d3f859f1fb202523c65c07ba7c22eefd261b181f4744e2d0403"
   }
  }
 },
 "nbformat": 4,
 "nbformat_minor": 4
}
