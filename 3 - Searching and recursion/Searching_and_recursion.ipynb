{
 "cells": [
  {
   "cell_type": "markdown",
   "metadata": {},
   "source": [
    "# Searching and recursion"
   ]
  },
  {
   "cell_type": "markdown",
   "metadata": {},
   "source": [
    "**Table of contents**<a id='toc0_'></a>    \n",
    "- 1. [Search](#toc1_)    \n",
    "  - 1.1. [Linear search (also called sequential search)](#toc1_1_)    \n",
    "  - 1.2. [Binary search (\"the phonebook search\")](#toc1_2_)    \n",
    "- 2. [Recursion](#toc2_)    \n",
    "  - 2.1. [Fibonacci numbers](#toc2_1_)    \n",
    "    - 2.1.1. [Caution!](#toc2_1_1_)    \n",
    "- 3. [Advanced](#toc3_)    \n",
    "  - 3.1. [Using cache](#toc3_1_)    \n",
    "    - 3.1.1. ['Manual' caching](#toc3_1_1_)    \n",
    "    - 3.1.2. [Using a decorator](#toc3_1_2_)    \n",
    "  - 3.2. [Binary search with recursion](#toc3_2_)    \n",
    "\n",
    "<!-- vscode-jupyter-toc-config\n",
    "\tnumbering=true\n",
    "\tanchor=true\n",
    "\tflat=false\n",
    "\tminLevel=2\n",
    "\tmaxLevel=6\n",
    "\t/vscode-jupyter-toc-config -->\n",
    "<!-- THIS CELL WILL BE REPLACED ON TOC UPDATE. DO NOT WRITE YOUR TEXT IN THIS CELL -->"
   ]
  },
  {
   "attachments": {},
   "cell_type": "markdown",
   "metadata": {},
   "source": [
    "**Links to further material:**  \n",
    "If you feel inspired by the material here, you can try your hand at solving algorithmic challenges at [Project Euler](https://projecteuler.net).  \n",
    "(there are both easy and harder exercises to choose from) "
   ]
  },
  {
   "attachments": {},
   "cell_type": "markdown",
   "metadata": {},
   "source": [
    "Today we'll learn how some fundational search algorithms work. We'll also see how recursion works."
   ]
  },
  {
   "cell_type": "code",
   "execution_count": 2,
   "metadata": {},
   "outputs": [],
   "source": [
    "import numpy as np"
   ]
  },
  {
   "cell_type": "markdown",
   "metadata": {},
   "source": [
    "## 1. <a id='toc1_'></a>[Search](#toc0_)"
   ]
  },
  {
   "cell_type": "markdown",
   "metadata": {},
   "source": [
    "### 1.1. <a id='toc1_1_'></a>[Linear search (also called sequential search)](#toc0_)"
   ]
  },
  {
   "attachments": {},
   "cell_type": "markdown",
   "metadata": {},
   "source": [
    "**Problem:** Check whether element is in list.\n",
    "\n",
    "**Inputs:** A list `L` and a potential element `x`.\n",
    "    \n",
    "**Outputs:** Boolean.\n",
    "\n",
    "**Algorithm:** `linear_search()`\n",
    "\n",
    "  1. Set variable `found == False`\n",
    "  2. For each `y` in the list `L`, compare it to `x`. If `x == y` set `found = True` and break loop.\n",
    "  3. `found` now shows whether the element is in the list or not"
   ]
  },
  {
   "cell_type": "code",
   "execution_count": 3,
   "metadata": {},
   "outputs": [
    {
     "name": "stdout",
     "output_type": "stream",
     "text": [
      "found  3: False\n",
      "found 13: True\n"
     ]
    }
   ],
   "source": [
    "L = [1, 2, 32, 8, 17, 19, 42, 13, 0] # test list\n",
    "\n",
    "def linear_search(L,x):\n",
    "    pass\n",
    "    \n",
    "print('found  3:',linear_search(L,3))\n",
    "print('found 13:',linear_search(L,13))"
   ]
  },
  {
   "cell_type": "code",
   "execution_count": 4,
   "metadata": {},
   "outputs": [],
   "source": [
    "def linear_search(L,x):\n",
    "    \"\"\" linear search\n",
    "    \n",
    "    Args:\n",
    "    \n",
    "        L (list): List to search in.\n",
    "        x (any): Element to search for.\n",
    "        \n",
    "    Returns:\n",
    "    \n",
    "        found (bool): Boolean for whether element is in list or not.\n",
    "    \n",
    "    \"\"\"\n",
    "    \n",
    "    # a. prep\n",
    "    i = 0\n",
    "    N = len(L)\n",
    "    found = False\n",
    "\n",
    "    # b. main\n",
    "    while i < N and not found:\n",
    "        if L[i] == x: # comparison\n",
    "            found = True\n",
    "        else:\n",
    "            i += 1 # increment\n",
    "\n",
    "    # c. return\n",
    "    return found"
   ]
  },
  {
   "cell_type": "code",
   "execution_count": 5,
   "metadata": {},
   "outputs": [
    {
     "name": "stdout",
     "output_type": "stream",
     "text": [
      "found  3: False\n",
      "found 13: True\n"
     ]
    }
   ],
   "source": [
    "print('found  3:',linear_search(L,3))\n",
    "print('found 13:',linear_search(L,13))"
   ]
  },
  {
   "cell_type": "markdown",
   "metadata": {},
   "source": [
    "**Terminology:** The linear search algorithm is called a **brute force** algorithm (we solve the problem without any intermediate steps)."
   ]
  },
  {
   "attachments": {},
   "cell_type": "markdown",
   "metadata": {},
   "source": [
    "**Analysis:** Each operation consists of a *comparision* and an *incremenet*:\n",
    "\n",
    "1. **Best case:** $O(1)$ (element present and first in list)\n",
    "2. **Average case:** \n",
    "  * $O(\\frac{n}{2})=O(n)$ (if element present), or \n",
    "  * $O(n)$ (if element *not* present) \n",
    "3. **Worst case:** $O(n)$ (element not present or last in list)"
   ]
  },
  {
   "cell_type": "markdown",
   "metadata": {},
   "source": [
    "### 1.2. <a id='toc1_2_'></a>[Binary search (\"the phonebook search\")](#toc0_)"
   ]
  },
  {
   "cell_type": "markdown",
   "metadata": {},
   "source": [
    "**Problem:** You know that a list is sorted. Check whether an element is contained in it.\n",
    "\n",
    "**Inputs:** A list `L` and a potential element `x`.\n",
    "    \n",
    "**Outputs:** Boolean.\n",
    "\n",
    "**Algorithm:** `binary_search()`\n",
    "\n",
    "  1. Set `found` to `False`, \n",
    "  2. Locate the `midpoint` of the list part that remains to be searched.  \n",
    "  2. Check whether the `midpoint` is the one we are searching for:  \n",
    "        * If yes, set `found=True` and go to step 3.\n",
    "        * If no, and the `midpoint` is *larger*, restrict attention to the *left* part of the list and restart step 2 if not empty.\n",
    "        * If no, and the `midpoint` is *smaller*, restrict attention to the *right* part of the list and restart step 2 if not empty.\n",
    "  3. `found` now shows whether the element is in the list or not"
   ]
  },
  {
   "cell_type": "markdown",
   "metadata": {},
   "source": [
    "**Middle element:** Define the midpoint between index `i` and index `j >= i` as `i + (j-i)/2`, rounded down if necessary."
   ]
  },
  {
   "cell_type": "code",
   "execution_count": 6,
   "metadata": {},
   "outputs": [
    {
     "name": "stdout",
     "output_type": "stream",
     "text": [
      "(i,j) = (0, 4) -> midpoint = 2\n",
      "(i,j) = (0, 5) -> midpoint = 2\n",
      "(i,j) = (0, 9) -> midpoint = 4\n",
      "(i,j) = (2, 4) -> midpoint = 3\n",
      "(i,j) = (2, 5) -> midpoint = 3\n",
      "(i,j) = (2, 9) -> midpoint = 5\n",
      "(i,j) = (4, 4) -> midpoint = 4\n",
      "(i,j) = (4, 5) -> midpoint = 4\n",
      "(i,j) = (4, 9) -> midpoint = 6\n"
     ]
    }
   ],
   "source": [
    "for i in [0,2,4]:\n",
    "    for j in [4,5,9]:\n",
    "        print(f'(i,j) = {i,j} -> midpoint = {i+((j-i)//2)}') # note integer division with //"
   ]
  },
  {
   "cell_type": "code",
   "execution_count": 21,
   "metadata": {},
   "outputs": [
    {
     "name": "stdout",
     "output_type": "stream",
     "text": [
      "found  3: False\n",
      "found 13: True\n"
     ]
    }
   ],
   "source": [
    "L = [0, 1, 2, 8, 13, 17, 19, 32, 42] # test list\n",
    "\n",
    "def binary_search(L,x):    \n",
    "    pass\n",
    "\n",
    "\n",
    "print('found  3:',binary_search(L,3))\n",
    "print('found 13:',binary_search(L,13))"
   ]
  },
  {
   "cell_type": "code",
   "execution_count": 22,
   "metadata": {},
   "outputs": [],
   "source": [
    "def binary_search(L,x,do_print=False):\n",
    "    \"\"\" binary search\n",
    "    \n",
    "    Args:\n",
    "    \n",
    "        L (list): List to search in.\n",
    "        x (any): Element to search for.\n",
    "        do_print (bool): Indicator for printing progress.\n",
    "        \n",
    "    Returns:\n",
    "    \n",
    "        found (bool): Boolean for whether element is in list or not.\n",
    "    \n",
    "    \"\"\"\n",
    "    \n",
    "    # a. initialize\n",
    "    found = False\n",
    "    \n",
    "    # b. start with whole list\n",
    "    first = 0\n",
    "    last = len(L)-1\n",
    "    \n",
    "    # c. main\n",
    "    while first <= last and not found:\n",
    "\n",
    "        # i. find midpoint\n",
    "        midpoint = first + (last - first) // 2 # // is integer division\n",
    "    \n",
    "        if do_print:\n",
    "            print(L[first:last+1],L[midpoint])\n",
    "            \n",
    "        # ii. check if x found or smaller or larger than midpoint\n",
    "        if L[midpoint] == x:\n",
    "            found = True\n",
    "        else:\n",
    "            if L[midpoint] > x:\n",
    "                last = midpoint-1\n",
    "            else:\n",
    "                first = midpoint+1\n",
    "    \n",
    "    return found"
   ]
  },
  {
   "cell_type": "code",
   "execution_count": 24,
   "metadata": {},
   "outputs": [
    {
     "name": "stdout",
     "output_type": "stream",
     "text": [
      "found  3: False\n",
      "found 13: True\n"
     ]
    }
   ],
   "source": [
    "print('found  3:',binary_search(L,3))\n",
    "print('found 13:',binary_search(L,13))"
   ]
  },
  {
   "cell_type": "code",
   "execution_count": 32,
   "metadata": {},
   "outputs": [
    {
     "name": "stdout",
     "output_type": "stream",
     "text": [
      "[0, 1, 2, 8, 13, 17, 19, 32, 42] 13\n",
      "[17, 19, 32, 42] 19\n",
      "[32, 42] 32\n",
      "[42] 42\n"
     ]
    },
    {
     "data": {
      "text/plain": [
       "False"
      ]
     },
     "execution_count": 32,
     "metadata": {},
     "output_type": "execute_result"
    }
   ],
   "source": [
    "binary_search(L,39,do_print=True)"
   ]
  },
  {
   "cell_type": "markdown",
   "metadata": {},
   "source": [
    "**Terminology:** This is called a **divide-and-conquer** algorithm."
   ]
  },
  {
   "cell_type": "markdown",
   "metadata": {},
   "source": [
    "**Analysis:**\n",
    "\n",
    "* After 1 comparison there is approximately $\\frac{n}{2}$ elements left.\n",
    "* After 2 comparisons there is approximately $\\frac{n}{4}$ elements left.\n",
    "* After 3 comparisons there is approximately $\\frac{n}{8}$ elements left.\n",
    "* ...\n",
    "* After $j$ comparisons there is approximately $\\frac{n}{2^j}$ number of elements left.\n",
    "\n",
    "**When is there one element left?**  $\\frac{n}{2^j} = 1 \\Leftrightarrow j = \\frac{\\log n}{\\log 2}$\n",
    "\n",
    "**Result:** The binary search algorithm is $O(\\log n)$, i.e. logarithmic complexity."
   ]
  },
  {
   "attachments": {},
   "cell_type": "markdown",
   "metadata": {},
   "source": [
    "The intution for the [bisection method](https://www.youtube.com/watch?v=MlP_W-obuNg) (which is a method for finding the root of a scalar function), follows from the intuition of binary search."
   ]
  },
  {
   "cell_type": "markdown",
   "metadata": {},
   "source": [
    "## 2. <a id='toc2_'></a>[Recursion](#toc0_)"
   ]
  },
  {
   "cell_type": "markdown",
   "metadata": {},
   "source": [
    "**Problem:** Sum the elements in a list."
   ]
  },
  {
   "cell_type": "code",
   "execution_count": 33,
   "metadata": {},
   "outputs": [],
   "source": [
    "L = [1,3,5,7,9]"
   ]
  },
  {
   "cell_type": "markdown",
   "metadata": {},
   "source": [
    "**Simple:** Just sum them:"
   ]
  },
  {
   "cell_type": "code",
   "execution_count": 34,
   "metadata": {},
   "outputs": [
    {
     "name": "stdout",
     "output_type": "stream",
     "text": [
      "25\n"
     ]
    }
   ],
   "source": [
    "def listsum(L):\n",
    "    result = 0\n",
    "    for x in L:\n",
    "        result += x\n",
    "    return result\n",
    "\n",
    "print(listsum(L))"
   ]
  },
  {
   "cell_type": "markdown",
   "metadata": {},
   "source": [
    "**Recursion:** The sum of a list is the sum of the first element and the sum of the rest of the list:"
   ]
  },
  {
   "cell_type": "code",
   "execution_count": 39,
   "metadata": {},
   "outputs": [
    {
     "name": "stdout",
     "output_type": "stream",
     "text": [
      "25\n"
     ]
    }
   ],
   "source": [
    "def listsum_recursive(L):\n",
    "    if len(L) == 1:\n",
    "        return L[0]\n",
    "    else:\n",
    "        return L[0] + listsum_recursive(L[1:])\n",
    "\n",
    "print(listsum_recursive(L))"
   ]
  },
  {
   "attachments": {},
   "cell_type": "markdown",
   "metadata": {},
   "source": [
    "This is also a divide-and-conquor strategy. Avoids loops.\n",
    "If you want to know more about recursion [this video](https://www.youtube.com/watch?v=8lhxIOAfDss&t=13s) is a place to start."
   ]
  },
  {
   "cell_type": "markdown",
   "metadata": {},
   "source": [
    "### 2.1. <a id='toc2_1_'></a>[Fibonacci numbers](#toc0_)"
   ]
  },
  {
   "cell_type": "markdown",
   "metadata": {},
   "source": [
    "**Definition:**\n",
    "\n",
    "$$\n",
    "\\begin{aligned}\n",
    "F_0 &= 0 \\\\\n",
    "F_1 &= 1 \\\\\n",
    "F_n &= F_{n-1} + F_{n-2} \\\\\n",
    "\\end{aligned}\n",
    "$$\n",
    "\n",
    "**Implementation:**"
   ]
  },
  {
   "cell_type": "code",
   "execution_count": 40,
   "metadata": {},
   "outputs": [
    {
     "name": "stdout",
     "output_type": "stream",
     "text": [
      "F0: 0\n",
      "F1: 1\n",
      "F2: 1\n",
      "F3: 2\n",
      "F4: 3\n",
      "F5: 5\n"
     ]
    }
   ],
   "source": [
    "def fibonacci(n):\n",
    "    if n == 0:\n",
    "        return 0\n",
    "    elif n == 1:\n",
    "        return 1\n",
    "    return fibonacci(n-1)+fibonacci(n-2)\n",
    "\n",
    "\n",
    "for n in range(6):\n",
    "    print(f'F{n}:',fibonacci(n))"
   ]
  },
  {
   "cell_type": "markdown",
   "metadata": {},
   "source": [
    "#### 2.1.1. <a id='toc2_1_1_'></a>[Caution!](#toc0_)\n",
    "This implementation is for demonstration purposes only. It can be greatly sped up by using the `@cache` decorator from functools, which stores the previous return value of a function call. \n",
    "\n",
    "If you ever want to use recursion, you must rely on **caching** of function values. Because ***recursion on itself is sloow***. "
   ]
  },
  {
   "cell_type": "markdown",
   "metadata": {},
   "source": [
    "**Test approximate formula:**"
   ]
  },
  {
   "cell_type": "code",
   "execution_count": 42,
   "metadata": {},
   "outputs": [
    {
     "name": "stdout",
     "output_type": "stream",
     "text": [
      "n =   5: true =      5, approximate =       5.000000000000\n",
      "n =  10: true =     55, approximate =      55.000000000000\n",
      "n =  15: true =    610, approximate =     610.000000000000\n",
      "n =  20: true =   6765, approximate =    6765.000000000005\n",
      "n =  25: true =  75025, approximate =   75025.000000000058\n"
     ]
    }
   ],
   "source": [
    "def fibonacci_approx(n):\n",
    "    return 1/np.sqrt(5)*( ((1+np.sqrt(5))/2)**n - ((1-np.sqrt(5))/2)**n)\n",
    "\n",
    "for n in [5,10,15,20,25]:\n",
    "    print(f'n = {n:3d}: true = {fibonacci(n):6d}, approximate = {fibonacci_approx(n):20.12f}')"
   ]
  },
  {
   "cell_type": "markdown",
   "metadata": {},
   "source": [
    "## 3. <a id='toc3_'></a>[Advanced](#toc0_)"
   ]
  },
  {
   "cell_type": "markdown",
   "metadata": {},
   "source": [
    "### 3.1. <a id='toc3_1_'></a>[Using cache](#toc0_)"
   ]
  },
  {
   "attachments": {},
   "cell_type": "markdown",
   "metadata": {},
   "source": [
    "It's relatively easy to implement caching, wich stores the output from earlier calls of the function, such that if you call the function twice with the same input, the second time performs no calculations."
   ]
  },
  {
   "cell_type": "markdown",
   "metadata": {},
   "source": [
    "#### 3.1.1. <a id='toc3_1_1_'></a>['Manual' caching](#toc0_)"
   ]
  },
  {
   "cell_type": "code",
   "execution_count": 43,
   "metadata": {},
   "outputs": [],
   "source": [
    "# Create dictionary in global scope for storing answers\n",
    "cache_dict = {}\n",
    "\n",
    "def fibonacci_cache(n):\n",
    "    # Check if answer is already in cache_dict\n",
    "    if n in cache_dict:\n",
    "        return cache_dict[n]\n",
    "    else:\n",
    "        if n == 0:\n",
    "            out =0\n",
    "        elif n == 1:\n",
    "            out = 1\n",
    "        else:\n",
    "            out = fibonacci_cache(n-1)+fibonacci_cache(n-2)\n",
    "\n",
    "        # Store answer in global scope\n",
    "        cache_dict[n] = out \n",
    "        return out"
   ]
  },
  {
   "cell_type": "code",
   "execution_count": 45,
   "metadata": {},
   "outputs": [
    {
     "data": {
      "text/plain": [
       "5702887"
      ]
     },
     "execution_count": 45,
     "metadata": {},
     "output_type": "execute_result"
    }
   ],
   "source": [
    "fibonacci(34)"
   ]
  },
  {
   "cell_type": "code",
   "execution_count": 47,
   "metadata": {},
   "outputs": [
    {
     "data": {
      "text/plain": [
       "102334155"
      ]
     },
     "execution_count": 47,
     "metadata": {},
     "output_type": "execute_result"
    }
   ],
   "source": [
    "fibonacci_cache(40)"
   ]
  },
  {
   "cell_type": "markdown",
   "metadata": {},
   "source": [
    "#### 3.1.2. <a id='toc3_1_2_'></a>[Using a decorator](#toc0_)"
   ]
  },
  {
   "attachments": {},
   "cell_type": "markdown",
   "metadata": {},
   "source": [
    "A decorator in Python is way to add functionality to a function without changing any code. <br>\n",
    "There is the nice `@cache` decorator in python, which means we can implement caching without changing our original function."
   ]
  },
  {
   "cell_type": "code",
   "execution_count": 48,
   "metadata": {},
   "outputs": [],
   "source": [
    "from functools import cache"
   ]
  },
  {
   "cell_type": "code",
   "execution_count": 56,
   "metadata": {},
   "outputs": [],
   "source": [
    "@cache\n",
    "def fibonacci_cache(n):\n",
    "    if n == 0:\n",
    "        return 0\n",
    "    elif n == 1:\n",
    "        return 1\n",
    "    return fibonacci_cache(n-1)+fibonacci_cache(n-2)"
   ]
  },
  {
   "attachments": {},
   "cell_type": "markdown",
   "metadata": {},
   "source": [
    "This greately speeds up computation time:"
   ]
  },
  {
   "cell_type": "code",
   "execution_count": 51,
   "metadata": {},
   "outputs": [
    {
     "data": {
      "text/plain": [
       "5702887"
      ]
     },
     "execution_count": 51,
     "metadata": {},
     "output_type": "execute_result"
    }
   ],
   "source": [
    "# Old version:\n",
    "fibonacci(34)"
   ]
  },
  {
   "cell_type": "code",
   "execution_count": 59,
   "metadata": {},
   "outputs": [
    {
     "data": {
      "text/plain": [
       "1134903170"
      ]
     },
     "execution_count": 59,
     "metadata": {},
     "output_type": "execute_result"
    }
   ],
   "source": [
    "# Cache version\n",
    "fibonacci_cache(45)"
   ]
  },
  {
   "attachments": {},
   "cell_type": "markdown",
   "metadata": {},
   "source": [
    "Using cache is however only efficient when using these recursives functions that will call themselves with the same input multiple times, and that have a low memory output type. As there is a tradeoff between reducing the number of performed operations and memory usage."
   ]
  },
  {
   "cell_type": "markdown",
   "metadata": {},
   "source": [
    "### 3.2. <a id='toc3_2_'></a>[Binary search with recursion](#toc0_)"
   ]
  },
  {
   "cell_type": "code",
   "execution_count": null,
   "metadata": {},
   "outputs": [],
   "source": [
    "L = [0, 1, 2, 8, 13, 17, 19, 32, 42,] # test list\n",
    "\n",
    "def binary_search_recursive(L,x):\n",
    "    pass\n",
    "\n",
    "print('found  3:',binary_search_recursive(L,3))\n",
    "print('found 13:',binary_search_recursive(L,13))"
   ]
  },
  {
   "cell_type": "code",
   "execution_count": 60,
   "metadata": {},
   "outputs": [],
   "source": [
    "def binary_search_recursive(L,x):\n",
    "    \"\"\" recursive binary search\n",
    "    \n",
    "    Args:\n",
    "    \n",
    "        L (list): List to search in.\n",
    "        x (any): Element to search for.\n",
    "        \n",
    "    Returns:\n",
    "    \n",
    "        found (bool): Boolean for whether element is in list or not.\n",
    "    \n",
    "    \"\"\"\n",
    "    \n",
    "    if len(L) == 0: \n",
    "    \n",
    "        return False # not found\n",
    "    \n",
    "    else:\n",
    "        \n",
    "        # a. find midpoint\n",
    "        midpoint = len(L)//2\n",
    "        \n",
    "        # b. check if x found or smaller or larger than midpoint\n",
    "        if L[midpoint] == x: # found\n",
    "            return True\n",
    "        else:            \n",
    "            if L[midpoint] > x:\n",
    "                newL = L[:midpoint]\n",
    "            else:\n",
    "                newL = L[midpoint+1:]\n",
    "            return binary_search_recursive(newL,x)"
   ]
  },
  {
   "cell_type": "code",
   "execution_count": 61,
   "metadata": {},
   "outputs": [
    {
     "name": "stdout",
     "output_type": "stream",
     "text": [
      "found  3: True\n",
      "found 13: False\n"
     ]
    }
   ],
   "source": [
    "print('found  3:',binary_search_recursive(L,3))\n",
    "print('found 13:',binary_search_recursive(L,13))"
   ]
  },
  {
   "cell_type": "code",
   "execution_count": null,
   "metadata": {},
   "outputs": [],
   "source": []
  }
 ],
 "metadata": {
  "kernelspec": {
   "display_name": "base",
   "language": "python",
   "name": "python3"
  },
  "language_info": {
   "codemirror_mode": {
    "name": "ipython",
    "version": 3
   },
   "file_extension": ".py",
   "mimetype": "text/x-python",
   "name": "python",
   "nbconvert_exporter": "python",
   "pygments_lexer": "ipython3",
   "version": "3.9.15"
  },
  "orig_nbformat": 4,
  "vscode": {
   "interpreter": {
    "hash": "2164e4eaf16dd6cd705646718fcef4f5f263bad5b7d103e76e9308c0132ca24b"
   }
  }
 },
 "nbformat": 4,
 "nbformat_minor": 2
}
