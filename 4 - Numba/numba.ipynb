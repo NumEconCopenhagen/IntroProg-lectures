{
 "cells": [
  {
   "cell_type": "markdown",
   "metadata": {},
   "source": [
    "# numba"
   ]
  },
  {
   "cell_type": "markdown",
   "metadata": {},
   "source": [
    "**Table of contents**<a id='toc0_'></a>    \n",
    "- 1. [Introduction](#toc1_)    \n",
    "- 2. [Further speed-up](#toc2_)    \n",
    "\n",
    "<!-- vscode-jupyter-toc-config\n",
    "\tnumbering=true\n",
    "\tanchor=true\n",
    "\tflat=false\n",
    "\tminLevel=2\n",
    "\tmaxLevel=6\n",
    "\t/vscode-jupyter-toc-config -->\n",
    "<!-- THIS CELL WILL BE REPLACED ON TOC UPDATE. DO NOT WRITE YOUR TEXT IN THIS CELL -->"
   ]
  },
  {
   "cell_type": "markdown",
   "metadata": {},
   "source": [
    "You will be introduced to how  to use the **numba** package to speed-up your code."
   ]
  },
  {
   "cell_type": "code",
   "execution_count": 1,
   "metadata": {},
   "outputs": [],
   "source": [
    "import time\n",
    "import numpy as np\n",
    "import numba as nb\n",
    "\n",
    "import matplotlib.pyplot as plt\n",
    "plt.rcParams.update({\"axes.grid\":True,\"grid.color\":\"black\",\"grid.alpha\":\"0.25\",\"grid.linestyle\":\"--\"})\n",
    "plt.rcParams.update({'font.size': 14})"
   ]
  },
  {
   "cell_type": "markdown",
   "metadata": {},
   "source": [
    "## 1. <a id='toc1_'></a>[Introduction](#toc0_)"
   ]
  },
  {
   "attachments": {},
   "cell_type": "markdown",
   "metadata": {},
   "source": [
    "Writing **vectorized code can be cumbersome**, and in some cases it is impossible. Instead we can use the **numba** module. \n",
    "\n",
    "Adding the decorator `nb.njit` on top of a function tells numba to compile this function **to machine code just-in-time**.\n",
    "\n",
    "This takes some time when the function is called the first time, but subsequent calls are then a lot faster. \n",
    "\n",
    "*The input types can, however, not change between calls because numba infer them on the first call.*"
   ]
  },
  {
   "cell_type": "code",
   "execution_count": 2,
   "metadata": {},
   "outputs": [
    {
     "name": "stdout",
     "output_type": "stream",
     "text": [
      "1.23 s ± 45.3 ms per loop (mean ± std. dev. of 7 runs, 1 loop each)\n"
     ]
    }
   ],
   "source": [
    "def myfun_numpy_vec(x1,x2):\n",
    "\n",
    "    y = np.empty((1,x1.size))\n",
    "    I = x1 < 0.5\n",
    "\n",
    "    y[I] = np.sum(np.exp(x2*x1[I]),axis=0)\n",
    "    y[~I] = np.sum(np.log(x2*x1[~I]),axis=0)\n",
    "    \n",
    "    return y\n",
    "\n",
    "# setup\n",
    "x1 = np.random.uniform(size=10**6)\n",
    "x2 = np.random.uniform(size=np.int64(100)) # adjust the size of the problem\n",
    "x1_np = x1.reshape((1,x1.size))\n",
    "x2_np = x2.reshape((x2.size,1))\n",
    "\n",
    "# timing\n",
    "%timeit myfun_numpy_vec(x1_np,x2_np)"
   ]
  },
  {
   "cell_type": "markdown",
   "metadata": {},
   "source": [
    "**Numba:** The first call is slower, but the result is the same, and the subsequent calls are faster:"
   ]
  },
  {
   "cell_type": "code",
   "execution_count": 3,
   "metadata": {},
   "outputs": [
    {
     "name": "stdout",
     "output_type": "stream",
     "text": [
      "Wall time: 1.59 s\n",
      "526 ms ± 14.8 ms per loop (mean ± std. dev. of 7 runs, 1 loop each)\n"
     ]
    }
   ],
   "source": [
    "@nb.njit\n",
    "def myfun_numba(x1,x2):\n",
    "\n",
    "    y = np.empty(x1.size)\n",
    "\n",
    "    for i in range(x1.size):\n",
    "        if x1[i] < 0.5:\n",
    "            y[i] = np.sum(np.exp(x2*x1[i]))\n",
    "        else:\n",
    "            y[i] = np.sum(np.log(x2*x1[i]))\n",
    "            \n",
    "    return y\n",
    "\n",
    "# call to just-in-time compile\n",
    "%time myfun_numba(x1,x2)\n",
    "\n",
    "# actual measurement\n",
    "%timeit myfun_numba(x1,x2)\n",
    "\n",
    "assert np.allclose(myfun_numpy_vec(x1_np,x2_np),myfun_numba(x1,x2))"
   ]
  },
  {
   "attachments": {},
   "cell_type": "markdown",
   "metadata": {},
   "source": [
    "You can also call the Python-version:"
   ]
  },
  {
   "cell_type": "code",
   "execution_count": 4,
   "metadata": {},
   "outputs": [
    {
     "name": "stdout",
     "output_type": "stream",
     "text": [
      "7.87 s ± 215 ms per loop (mean ± std. dev. of 7 runs, 1 loop each)\n"
     ]
    }
   ],
   "source": [
    "%timeit myfun_numba.py_func(x1,x2)"
   ]
  },
  {
   "attachments": {},
   "cell_type": "markdown",
   "metadata": {},
   "source": [
    "**Caveats:** Only a limited number of Python and Numpy features are supported inside just-in-time compiled functions.\n",
    "\n",
    "- [Supported Python features](https://numba.pydata.org/numba-doc/dev/reference/pysupported.html)\n",
    "- [Supported Numpy features](https://numba.pydata.org/numba-doc/dev/reference/numpysupported.html)\n"
   ]
  },
  {
   "cell_type": "markdown",
   "metadata": {},
   "source": [
    "## 2. <a id='toc2_'></a>[Further speed-up](#toc0_)"
   ]
  },
  {
   "attachments": {},
   "cell_type": "markdown",
   "metadata": {},
   "source": [
    "**Further speed up:** Use\n",
    "\n",
    "1. parallelization (with ``prange``), and \n",
    "1. faster but less precise math (with ``fastmath``)"
   ]
  },
  {
   "cell_type": "code",
   "execution_count": 5,
   "metadata": {},
   "outputs": [
    {
     "name": "stdout",
     "output_type": "stream",
     "text": [
      "Wall time: 222 ms\n",
      "226 ms ± 5.99 ms per loop (mean ± std. dev. of 7 runs, 1 loop each)\n"
     ]
    }
   ],
   "source": [
    "@nb.njit(parallel=True)\n",
    "def myfun_numba_par(x1,x2):\n",
    "\n",
    "    y = np.empty(x1.size)\n",
    "    \n",
    "    for i in nb.prange(x1.size): # in parallel across threads\n",
    "        if x1[i] < 0.5:\n",
    "            y[i] = np.sum(np.exp(x2*x1[i]))\n",
    "        else:\n",
    "            y[i] = np.sum(np.log(x2*x1[i]))\n",
    "            \n",
    "    return y\n",
    "\n",
    "assert np.allclose(myfun_numpy_vec(x1_np,x2_np),myfun_numba_par(x1,x2))\n",
    "%time myfun_numba_par(x1,x2)\n",
    "%timeit myfun_numba_par(x1,x2)"
   ]
  },
  {
   "cell_type": "code",
   "execution_count": 6,
   "metadata": {},
   "outputs": [
    {
     "name": "stdout",
     "output_type": "stream",
     "text": [
      "Wall time: 217 ms\n",
      "216 ms ± 3.6 ms per loop (mean ± std. dev. of 7 runs, 1 loop each)\n"
     ]
    }
   ],
   "source": [
    "@nb.njit(parallel=True,fastmath=True)\n",
    "def myfun_numba_par_fast(x1,x2):\n",
    "\n",
    "    y = np.empty(x1.size)\n",
    "\n",
    "    for i in nb.prange(x1.size): # in parallel across threads\n",
    "        if x1[i] < 0.5:\n",
    "            y[i] = np.sum(np.exp(x2*x1[i]))\n",
    "        else:\n",
    "            y[i] = np.sum(np.log(x2*x1[i]))\n",
    "            \n",
    "    return y\n",
    "\n",
    "assert np.allclose(myfun_numpy_vec(x1_np,x2_np),myfun_numba_par_fast(x1,x2))\n",
    "%time myfun_numba_par_fast(x1,x2)\n",
    "%timeit myfun_numba_par_fast(x1,x2)"
   ]
  }
 ],
 "metadata": {
  "kernelspec": {
   "display_name": "base",
   "language": "python",
   "name": "python3"
  },
  "language_info": {
   "codemirror_mode": {
    "name": "ipython",
    "version": 3
   },
   "file_extension": ".py",
   "mimetype": "text/x-python",
   "name": "python",
   "nbconvert_exporter": "python",
   "pygments_lexer": "ipython3",
   "version": "3.9.15"
  },
  "toc-autonumbering": true,
  "vscode": {
   "interpreter": {
    "hash": "47ef90cdf3004d3f859f1fb202523c65c07ba7c22eefd261b181f4744e2d0403"
   }
  }
 },
 "nbformat": 4,
 "nbformat_minor": 4
}
