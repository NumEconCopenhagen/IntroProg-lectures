{
 "cells": [
  {
   "cell_type": "markdown",
   "metadata": {},
   "source": [
    "# Symbolic math"
   ]
  },
  {
   "cell_type": "markdown",
   "metadata": {},
   "source": [
    "**Table of contents**<a id='toc0_'></a>    \n",
    "- 1. [Solve consumer problem](#toc1_)    \n",
    "  - 1.1. [Latex](#toc1_1_)    \n",
    "  - 1.2. [Turn solution into Python function](#toc1_2_)    \n",
    "  - 1.3. [Analyzing properties of the solution (expression)](#toc1_3_)    \n",
    "- 2. [More features of symbolic math (mixed goodies)](#toc2_)    \n",
    "- 3. [Numerical vs. symbolic solution](#toc3_)    \n",
    "- 4. [Solving matrix equations symbolically (+)](#toc4_)    \n",
    "\n",
    "<!-- vscode-jupyter-toc-config\n",
    "\tnumbering=true\n",
    "\tanchor=true\n",
    "\tflat=false\n",
    "\tminLevel=2\n",
    "\tmaxLevel=6\n",
    "\t/vscode-jupyter-toc-config -->\n",
    "<!-- THIS CELL WILL BE REPLACED ON TOC UPDATE. DO NOT WRITE YOUR TEXT IN THIS CELL -->"
   ]
  },
  {
   "cell_type": "markdown",
   "metadata": {},
   "source": [
    "You will learn to use symbolic math with **sympy** to solve equations."
   ]
  },
  {
   "cell_type": "markdown",
   "metadata": {},
   "source": [
    "**sympy:** [overview](https://docs.sympy.org/latest/index.html) + [tutorial](https://docs.sympy.org/latest/tutorial/index.html#tutorial)"
   ]
  },
  {
   "cell_type": "code",
   "execution_count": 1,
   "metadata": {},
   "outputs": [],
   "source": [
    "import numpy as np\n",
    "import matplotlib.pyplot as plt\n",
    "plt.rcParams.update({\"axes.grid\":True,\"grid.color\":\"black\",\"grid.alpha\":\"0.25\",\"grid.linestyle\":\"--\"})\n",
    "plt.rcParams.update({'font.size': 14})\n",
    "\n",
    "from scipy import optimize\n",
    "\n",
    "import sympy as sm\n",
    "from IPython.display import display"
   ]
  },
  {
   "cell_type": "markdown",
   "metadata": {},
   "source": [
    "## 1. <a id='toc1_'></a>[Solve consumer problem](#toc0_)"
   ]
  },
  {
   "cell_type": "markdown",
   "metadata": {},
   "source": [
    "Consider solving the following problem:\n",
    "\n",
    "$$ \n",
    "\\max_{x_1,x_2} x_1^{\\alpha} x_2^{\\beta} \\text{ s.t. } p_1x_1 + p_2x_2 = m\n",
    "$$"
   ]
  },
  {
   "cell_type": "markdown",
   "metadata": {},
   "source": [
    "Define all symbols:"
   ]
  },
  {
   "cell_type": "code",
   "execution_count": 2,
   "metadata": {},
   "outputs": [
    {
     "name": "stdout",
     "output_type": "stream",
     "text": [
      "x1 is of type:  <class 'sympy.core.symbol.Symbol'>\n"
     ]
    }
   ],
   "source": [
    "x1 = sm.symbols('x_1') # x1 is a Python variable representing the symbol x_1\n",
    "x2 = sm.symbols('x_2')\n",
    "alpha = sm.symbols('alpha')\n",
    "beta = sm.symbols('beta')\n",
    "p1 = sm.symbols('p_1')\n",
    "p2 = sm.symbols('p_2')\n",
    "m = sm.symbols('m')\n",
    "\n",
    "print('x1 is of type: ', type(x1))"
   ]
  },
  {
   "cell_type": "markdown",
   "metadata": {},
   "source": [
    "Define objective and budget constraint:"
   ]
  },
  {
   "cell_type": "code",
   "execution_count": 3,
   "metadata": {},
   "outputs": [
    {
     "data": {
      "text/latex": [
       "$\\displaystyle x_{1}^{\\alpha} x_{2}^{\\beta}$"
      ],
      "text/plain": [
       "x_1**alpha*x_2**beta"
      ]
     },
     "execution_count": 3,
     "metadata": {},
     "output_type": "execute_result"
    }
   ],
   "source": [
    "# write out the equation as if it was regular code\n",
    "objective = x1**alpha*x2**beta\n",
    "objective"
   ]
  },
  {
   "cell_type": "code",
   "execution_count": 4,
   "metadata": {},
   "outputs": [
    {
     "data": {
      "text/latex": [
       "$\\displaystyle p_{1} x_{1} + p_{2} x_{2} = m$"
      ],
      "text/plain": [
       "Eq(p_1*x_1 + p_2*x_2, m)"
      ]
     },
     "execution_count": 4,
     "metadata": {},
     "output_type": "execute_result"
    }
   ],
   "source": [
    "# define the budget constraint as an equality\n",
    "budget_constraint = sm.Eq(p1*x1+p2*x2,m)\n",
    "budget_constraint"
   ]
  },
  {
   "cell_type": "markdown",
   "metadata": {},
   "source": [
    "Solve in **four steps**:\n",
    "\n",
    "1. **Isolate** $x_2$ from the budget constraint\n",
    "2. **Substitute** in $x_2$\n",
    "3. **Take the derivative** wrt. $x_1$\n",
    "4. **Solve the FOC** for $x_1$"
   ]
  },
  {
   "cell_type": "markdown",
   "metadata": {},
   "source": [
    "**Step 1: Isolate**"
   ]
  },
  {
   "cell_type": "code",
   "execution_count": 5,
   "metadata": {},
   "outputs": [
    {
     "data": {
      "text/latex": [
       "$\\displaystyle \\frac{m - p_{1} x_{1}}{p_{2}}$"
      ],
      "text/plain": [
       "(m - p_1*x_1)/p_2"
      ]
     },
     "execution_count": 5,
     "metadata": {},
     "output_type": "execute_result"
    }
   ],
   "source": [
    "# isolate x2 on LHS\n",
    "x2_from_con = sm.solve(budget_constraint, x2)\n",
    "x2_from_con[0]"
   ]
  },
  {
   "cell_type": "markdown",
   "metadata": {},
   "source": [
    "**Step 2: Substitute**"
   ]
  },
  {
   "cell_type": "code",
   "execution_count": 6,
   "metadata": {
    "tags": []
   },
   "outputs": [
    {
     "data": {
      "text/latex": [
       "$\\displaystyle x_{1}^{\\alpha} \\left(\\frac{m - p_{1} x_{1}}{p_{2}}\\right)^{\\beta}$"
      ],
      "text/plain": [
       "x_1**alpha*((m - p_1*x_1)/p_2)**beta"
      ]
     },
     "execution_count": 6,
     "metadata": {},
     "output_type": "execute_result"
    }
   ],
   "source": [
    "objective_subs = objective.subs(x2, x2_from_con[0])\n",
    "objective_subs"
   ]
  },
  {
   "cell_type": "markdown",
   "metadata": {},
   "source": [
    "**Step 3: Take the derivative**"
   ]
  },
  {
   "cell_type": "code",
   "execution_count": 7,
   "metadata": {},
   "outputs": [
    {
     "data": {
      "text/latex": [
       "$\\displaystyle \\frac{\\alpha x_{1}^{\\alpha} \\left(\\frac{m - p_{1} x_{1}}{p_{2}}\\right)^{\\beta}}{x_{1}} - \\frac{\\beta p_{1} x_{1}^{\\alpha} \\left(\\frac{m - p_{1} x_{1}}{p_{2}}\\right)^{\\beta}}{m - p_{1} x_{1}}$"
      ],
      "text/plain": [
       "alpha*x_1**alpha*((m - p_1*x_1)/p_2)**beta/x_1 - beta*p_1*x_1**alpha*((m - p_1*x_1)/p_2)**beta/(m - p_1*x_1)"
      ]
     },
     "execution_count": 7,
     "metadata": {},
     "output_type": "execute_result"
    }
   ],
   "source": [
    "foc = sm.diff(objective_subs, x1)\n",
    "foc"
   ]
  },
  {
   "cell_type": "markdown",
   "metadata": {},
   "source": [
    "**Step 4: Solve the FOC**"
   ]
  },
  {
   "cell_type": "code",
   "execution_count": 8,
   "metadata": {},
   "outputs": [
    {
     "data": {
      "text/latex": [
       "$\\displaystyle \\frac{\\alpha m}{p_{1} \\left(\\alpha + \\beta\\right)}$"
      ],
      "text/plain": [
       "alpha*m/(p_1*(alpha + beta))"
      ]
     },
     "execution_count": 8,
     "metadata": {},
     "output_type": "execute_result"
    }
   ],
   "source": [
    "sol = sm.solve(sm.Eq(foc,0), x1)\n",
    "sol[0]"
   ]
  },
  {
   "cell_type": "markdown",
   "metadata": {},
   "source": [
    "> An alternative is `sm.solveset()`, which will be the default in the future, but it is still a bit immature in my view."
   ]
  },
  {
   "cell_type": "markdown",
   "metadata": {},
   "source": [
    "**Task:** Solve the consumer problem with quasi-linear preferences,\n",
    "\n",
    "$$ \\max_{x_1,x_2} \\sqrt{x_1} + \\gamma x_2 \\text{ s.t. } p_1x_1 + p_2x_2 = m $$"
   ]
  },
  {
   "cell_type": "code",
   "execution_count": 9,
   "metadata": {},
   "outputs": [],
   "source": [
    "# write your code here        "
   ]
  },
  {
   "attachments": {},
   "cell_type": "markdown",
   "metadata": {},
   "source": [
    "**Solution:**"
   ]
  },
  {
   "cell_type": "code",
   "execution_count": 10,
   "metadata": {
    "jupyter": {
     "source_hidden": true
    },
    "tags": []
   },
   "outputs": [
    {
     "data": {
      "text/latex": [
       "$\\displaystyle \\frac{p_{2}^{2}}{4 \\gamma^{2} p_{1}^{2}}$"
      ],
      "text/plain": [
       "p_2**2/(4*gamma**2*p_1**2)"
      ]
     },
     "execution_count": 10,
     "metadata": {},
     "output_type": "execute_result"
    }
   ],
   "source": [
    "gamma = sm.symbols('gamma')\n",
    "objective_alt = sm.sqrt(x1) + gamma*x2\n",
    "objective_alt_subs = objective_alt.subs(x2,x2_from_con[0])\n",
    "foc_alt = sm.diff(objective_alt_subs,x1)\n",
    "sol_alt = sm.solve(foc_alt,x1)\n",
    "# same as: sol_alt = sm.solve(sm.Eq(foc_alt,0),x1)\n",
    "sol_alt[0]"
   ]
  },
  {
   "cell_type": "markdown",
   "metadata": {},
   "source": [
    "### 1.1. <a id='toc1_1_'></a>[Latex](#toc0_)"
   ]
  },
  {
   "cell_type": "markdown",
   "metadata": {},
   "source": [
    "**LaTex:** Print in LaTex format:"
   ]
  },
  {
   "cell_type": "code",
   "execution_count": 11,
   "metadata": {
    "tags": []
   },
   "outputs": [
    {
     "name": "stdout",
     "output_type": "stream",
     "text": [
      "\\frac{\\alpha m}{p_{1} \\left(\\alpha + \\beta\\right)}\n"
     ]
    }
   ],
   "source": [
    "print(sm.latex(sol[0]))"
   ]
  },
  {
   "cell_type": "markdown",
   "metadata": {},
   "source": [
    "### 1.2. <a id='toc1_2_'></a>[Turn solution into Python function](#toc0_)\n",
    "\n",
    "Sympy can do a fantastic trick! Once you have the solution of your equation, this can be **turned into a Python function**. Thus you can use the solution on arrays. It's called lambdification (think \"lambda functions\")."
   ]
  },
  {
   "cell_type": "code",
   "execution_count": 12,
   "metadata": {},
   "outputs": [
    {
     "data": {
      "text/plain": [
       "144"
      ]
     },
     "execution_count": 12,
     "metadata": {},
     "output_type": "execute_result"
    }
   ],
   "source": [
    "# simple example. \n",
    "# 1st element of lambdify: a tuple of symbols to be used. \n",
    "# 2nd element: the expression used on the symbols.  \n",
    "\n",
    "x = sm.symbols('x')\n",
    "x_square = sm.lambdify(args = (x), expr = x**2)\n",
    "x_square(12)"
   ]
  },
  {
   "cell_type": "code",
   "execution_count": 13,
   "metadata": {},
   "outputs": [
    {
     "name": "stdout",
     "output_type": "stream",
     "text": [
      "demand: 4.167\n",
      "demand: 1.667\n",
      "demand: 1.000\n",
      "demand: 0.556\n"
     ]
    }
   ],
   "source": [
    "# create a function out of the solution by providing the \"expression\" you want \n",
    "# (ie the solution) and the inputs to the expression in a tuple. \n",
    "\n",
    "sol_func = sm.lambdify(args=(p1,m,alpha,beta),expr=sol[0])\n",
    "\n",
    "# run solution. DO NOT overwrite the SYMBOLS (m,alpha,beta) with numeric data\n",
    "p1_vec = np.array([1.2,3,5,9])\n",
    "m_val = 10\n",
    "alpha_val = 0.5\n",
    "beta_val = 0.5\n",
    "\n",
    "# run solution function with vector of prices\n",
    "demand_p1 = sol_func(p1_vec, m_val, alpha_val, beta_val)\n",
    "\n",
    "for d in demand_p1:\n",
    "    print(f'demand: {d:1.3f}')"
   ]
  },
  {
   "attachments": {},
   "cell_type": "markdown",
   "metadata": {},
   "source": [
    "**Task:** Solve the consumer problem with quasi-linear preferences numerically with $\\gamma=0.5,p_1=2,p_2=1,m=10$."
   ]
  },
  {
   "cell_type": "code",
   "execution_count": 14,
   "metadata": {},
   "outputs": [],
   "source": [
    "# write your code here "
   ]
  },
  {
   "cell_type": "markdown",
   "metadata": {},
   "source": [
    "**Solution:**"
   ]
  },
  {
   "cell_type": "code",
   "execution_count": 15,
   "metadata": {},
   "outputs": [
    {
     "name": "stdout",
     "output_type": "stream",
     "text": [
      "demand: 0.250\n"
     ]
    }
   ],
   "source": [
    "gamma_val = 0.5\n",
    "p1_val = 2.0\n",
    "p2_val = 1.0\n",
    "m_val = 10.0\n",
    "sol_alt_func = sm.lambdify(args=(p1,p2,m,gamma),expr=sol_alt[0])\n",
    "demand = sol_alt_func(p1_val,p2_val,m_val,gamma_val)\n",
    "print(f'demand: {demand:1.3f}')"
   ]
  },
  {
   "cell_type": "markdown",
   "metadata": {},
   "source": [
    "### 1.3. <a id='toc1_3_'></a>[Analyzing properties of the solution (expression)](#toc0_)"
   ]
  },
  {
   "cell_type": "markdown",
   "metadata": {},
   "source": [
    "**Is demand always positive?**"
   ]
  },
  {
   "cell_type": "markdown",
   "metadata": {},
   "source": [
    "Give the computer the **information** we have. I.e. that $p_1$, $p_2$, $\\alpha$, $\\beta$, $m$ are all strictly positive:"
   ]
  },
  {
   "cell_type": "code",
   "execution_count": 16,
   "metadata": {},
   "outputs": [
    {
     "data": {
      "text/plain": [
       "{Q.positive(alpha),\n",
       " Q.positive(beta),\n",
       " Q.positive(m),\n",
       " Q.positive(p_1),\n",
       " Q.positive(p_2)}"
      ]
     },
     "execution_count": 16,
     "metadata": {},
     "output_type": "execute_result"
    }
   ],
   "source": [
    "for var in [p1,p2,alpha,beta,m]:\n",
    "    sm.assumptions.assume.global_assumptions.add(sm.Q.positive(var)) # var is always positive\n",
    "sm.assumptions.assume.global_assumptions    "
   ]
  },
  {
   "cell_type": "markdown",
   "metadata": {},
   "source": [
    "**Ask** the computer a **question**:"
   ]
  },
  {
   "cell_type": "code",
   "execution_count": 17,
   "metadata": {},
   "outputs": [
    {
     "name": "stdout",
     "output_type": "stream",
     "text": [
      "True\n"
     ]
    }
   ],
   "source": [
    "answer = sm.ask(sm.Q.positive(sol[0]))\n",
    "print(answer)"
   ]
  },
  {
   "cell_type": "markdown",
   "metadata": {},
   "source": [
    "We need the assumption that $p_1 > 0$:"
   ]
  },
  {
   "cell_type": "code",
   "execution_count": 18,
   "metadata": {},
   "outputs": [
    {
     "name": "stdout",
     "output_type": "stream",
     "text": [
      "None\n"
     ]
    }
   ],
   "source": [
    "sm.assumptions.assume.global_assumptions.remove(sm.Q.positive(p1))\n",
    "answer = sm.ask(sm.Q.positive(sol[0]))\n",
    "print(answer)"
   ]
  },
  {
   "cell_type": "markdown",
   "metadata": {},
   "source": [
    "To clear all assumptions we can use:"
   ]
  },
  {
   "cell_type": "code",
   "execution_count": 19,
   "metadata": {},
   "outputs": [],
   "source": [
    "sm.assumptions.assume.global_assumptions.clear()"
   ]
  },
  {
   "cell_type": "markdown",
   "metadata": {},
   "source": [
    "## 2. <a id='toc2_'></a>[More features of symbolic math (mixed goodies)](#toc0_)"
   ]
  },
  {
   "cell_type": "code",
   "execution_count": 20,
   "metadata": {},
   "outputs": [],
   "source": [
    "x = sm.symbols('x')"
   ]
  },
  {
   "cell_type": "markdown",
   "metadata": {},
   "source": [
    "**Derivatives:** Higher order derivatives are also available"
   ]
  },
  {
   "cell_type": "code",
   "execution_count": 21,
   "metadata": {},
   "outputs": [
    {
     "data": {
      "text/latex": [
       "$\\displaystyle \\frac{d^{2}}{d x^{2}} x^{4}$"
      ],
      "text/plain": [
       "Derivative(x**4, (x, 2))"
      ]
     },
     "execution_count": 21,
     "metadata": {},
     "output_type": "execute_result"
    }
   ],
   "source": [
    "sm.Derivative('x**4',x,x)"
   ]
  },
  {
   "cell_type": "code",
   "execution_count": 22,
   "metadata": {},
   "outputs": [
    {
     "data": {
      "text/latex": [
       "$\\displaystyle 12 x^{2}$"
      ],
      "text/plain": [
       "12*x**2"
      ]
     },
     "execution_count": 22,
     "metadata": {},
     "output_type": "execute_result"
    }
   ],
   "source": [
    "sm.Derivative('x**4',x,x,evaluate=True)"
   ]
  },
  {
   "cell_type": "markdown",
   "metadata": {},
   "source": [
    "Alternatively,"
   ]
  },
  {
   "cell_type": "code",
   "execution_count": 23,
   "metadata": {},
   "outputs": [
    {
     "data": {
      "text/latex": [
       "$\\displaystyle 12 x^{2}$"
      ],
      "text/plain": [
       "12*x**2"
      ]
     },
     "execution_count": 23,
     "metadata": {},
     "output_type": "execute_result"
    }
   ],
   "source": [
    "sm.diff('x**4',x,x)"
   ]
  },
  {
   "cell_type": "code",
   "execution_count": 24,
   "metadata": {},
   "outputs": [
    {
     "data": {
      "text/latex": [
       "$\\displaystyle 12 x^{2}$"
      ],
      "text/plain": [
       "12*x**2"
      ]
     },
     "execution_count": 24,
     "metadata": {},
     "output_type": "execute_result"
    }
   ],
   "source": [
    "expr = sm.Derivative('x**4',x,x)\n",
    "expr.doit()"
   ]
  },
  {
   "attachments": {},
   "cell_type": "markdown",
   "metadata": {},
   "source": [
    "With two variables:"
   ]
  },
  {
   "cell_type": "code",
   "execution_count": 25,
   "metadata": {},
   "outputs": [
    {
     "data": {
      "text/latex": [
       "$\\displaystyle 2 x \\left(\\log{\\left(y \\right)} + \\frac{1}{y}\\right) e^{y}$"
      ],
      "text/plain": [
       "2*x*(log(y) + 1/y)*exp(y)"
      ]
     },
     "execution_count": 25,
     "metadata": {},
     "output_type": "execute_result"
    }
   ],
   "source": [
    "y = sm.symbols('y')\n",
    "sm.diff('(x**2)*log(y)*exp(y)',x,y)"
   ]
  },
  {
   "cell_type": "markdown",
   "metadata": {},
   "source": [
    "**Integrals:**"
   ]
  },
  {
   "cell_type": "code",
   "execution_count": 26,
   "metadata": {},
   "outputs": [
    {
     "data": {
      "text/latex": [
       "$\\displaystyle \\int\\limits_{0}^{\\infty} e^{- x}\\, dx$"
      ],
      "text/plain": [
       "Integral(exp(-x), (x, 0, oo))"
      ]
     },
     "execution_count": 26,
     "metadata": {},
     "output_type": "execute_result"
    }
   ],
   "source": [
    "sm.Integral(sm.exp(-x), (x, 0, sm.oo))"
   ]
  },
  {
   "cell_type": "code",
   "execution_count": 27,
   "metadata": {},
   "outputs": [
    {
     "data": {
      "text/latex": [
       "$\\displaystyle 1$"
      ],
      "text/plain": [
       "1"
      ]
     },
     "execution_count": 27,
     "metadata": {},
     "output_type": "execute_result"
    }
   ],
   "source": [
    "sm.integrate(sm.exp(-x), (x, 0, sm.oo))"
   ]
  },
  {
   "cell_type": "markdown",
   "metadata": {},
   "source": [
    "**Limits:**"
   ]
  },
  {
   "cell_type": "code",
   "execution_count": 28,
   "metadata": {},
   "outputs": [
    {
     "data": {
      "text/latex": [
       "$\\displaystyle \\lim_{\\rho \\to 1^+}\\left(\\frac{c^{1 - \\rho} - 1}{1 - \\rho}\\right)$"
      ],
      "text/plain": [
       "Limit((c**(1 - rho) - 1)/(1 - rho), rho, 1)"
      ]
     },
     "execution_count": 28,
     "metadata": {},
     "output_type": "execute_result"
    }
   ],
   "source": [
    "c = sm.symbols('c')\n",
    "rho = sm.symbols('rho')\n",
    "\n",
    "# Write up the definition of your limit\n",
    "sm.Limit((c**(1-rho)-1)/(1-rho),rho,1)"
   ]
  },
  {
   "cell_type": "code",
   "execution_count": 29,
   "metadata": {},
   "outputs": [
    {
     "data": {
      "text/latex": [
       "$\\displaystyle \\log{\\left(c \\right)}$"
      ],
      "text/plain": [
       "log(c)"
      ]
     },
     "execution_count": 29,
     "metadata": {},
     "output_type": "execute_result"
    }
   ],
   "source": [
    "# Evaluate the limit\n",
    "sm.limit((c**(1-rho)-1)/(1-rho),rho,1)"
   ]
  },
  {
   "cell_type": "markdown",
   "metadata": {},
   "source": [
    "**Integers:**"
   ]
  },
  {
   "cell_type": "code",
   "execution_count": 30,
   "metadata": {},
   "outputs": [
    {
     "data": {
      "text/latex": [
       "$\\displaystyle \\frac{7}{3}$"
      ],
      "text/plain": [
       "7/3"
      ]
     },
     "metadata": {},
     "output_type": "display_data"
    },
    {
     "data": {
      "text/latex": [
       "$\\displaystyle \\frac{3}{8}$"
      ],
      "text/plain": [
       "3/8"
      ]
     },
     "metadata": {},
     "output_type": "display_data"
    },
    {
     "data": {
      "text/latex": [
       "$\\displaystyle \\frac{343}{512}$"
      ],
      "text/plain": [
       "343/512"
      ]
     },
     "execution_count": 30,
     "metadata": {},
     "output_type": "execute_result"
    }
   ],
   "source": [
    "X = sm.Integer(7)/sm.Integer(3)\n",
    "Y = sm.Integer(3)/sm.Integer(8)\n",
    "display(X)\n",
    "display(Y)\n",
    "Z = 3\n",
    "(X*Y)**Z"
   ]
  },
  {
   "cell_type": "markdown",
   "metadata": {},
   "source": [
    "**Simplify:**"
   ]
  },
  {
   "cell_type": "code",
   "execution_count": 31,
   "metadata": {},
   "outputs": [
    {
     "data": {
      "text/latex": [
       "$\\displaystyle \\sin^{2}{\\left(x \\right)} + \\cos^{2}{\\left(x \\right)}$"
      ],
      "text/plain": [
       "sin(x)**2 + cos(x)**2"
      ]
     },
     "metadata": {},
     "output_type": "display_data"
    }
   ],
   "source": [
    "expr = sm.sin(x)**2 + sm.cos(x)**2\n",
    "display(expr)"
   ]
  },
  {
   "cell_type": "code",
   "execution_count": 32,
   "metadata": {},
   "outputs": [
    {
     "data": {
      "text/latex": [
       "$\\displaystyle 1$"
      ],
      "text/plain": [
       "1"
      ]
     },
     "execution_count": 32,
     "metadata": {},
     "output_type": "execute_result"
    }
   ],
   "source": [
    "sm.simplify(expr)"
   ]
  },
  {
   "cell_type": "markdown",
   "metadata": {},
   "source": [
    "**Solve multiple equations at once:**"
   ]
  },
  {
   "cell_type": "code",
   "execution_count": 33,
   "metadata": {},
   "outputs": [
    {
     "data": {
      "text/latex": [
       "$\\displaystyle x^{2} + y - 2 = 0$"
      ],
      "text/plain": [
       "Eq(x**2 + y - 2, 0)"
      ]
     },
     "metadata": {},
     "output_type": "display_data"
    },
    {
     "data": {
      "text/latex": [
       "$\\displaystyle y^{2} - 4 = 0$"
      ],
      "text/plain": [
       "Eq(y**2 - 4, 0)"
      ]
     },
     "metadata": {},
     "output_type": "display_data"
    }
   ],
   "source": [
    "x = sm.symbols('x')\n",
    "y = sm.symbols('y')\n",
    "Eq1 = sm.Eq(x**2+y-2,0)\n",
    "Eq2 = sm.Eq(y**2-4,0)\n",
    "display(Eq1)\n",
    "display(Eq2)"
   ]
  },
  {
   "cell_type": "code",
   "execution_count": 34,
   "metadata": {},
   "outputs": [
    {
     "name": "stdout",
     "output_type": "stream",
     "text": [
      "(x,y) = (-2,-2)\n",
      "(x,y) = (0,2)\n",
      "(x,y) = (0,2)\n",
      "(x,y) = (2,-2)\n"
     ]
    }
   ],
   "source": [
    "# Solve the system\n",
    "sol = sm.solve([Eq1,Eq2],[x,y])\n",
    "\n",
    "# print all solutions\n",
    "for xy in sol:\n",
    "    print(f'(x,y) = ({xy[0]},{xy[1]})')"
   ]
  },
  {
   "cell_type": "markdown",
   "metadata": {},
   "source": [
    "## 3. <a id='toc3_'></a>[Numerical vs. symbolic solution](#toc0_)"
   ]
  },
  {
   "cell_type": "markdown",
   "metadata": {},
   "source": [
    "$$f(x) = x^2 - 1$$"
   ]
  },
  {
   "cell_type": "markdown",
   "metadata": {},
   "source": [
    "**Numiercal solution:** Potential problems include\n",
    "\n",
    "1. Convergence to only one root\n",
    "2. Convergence not exact\n",
    "3. No convergence"
   ]
  },
  {
   "cell_type": "code",
   "execution_count": 35,
   "metadata": {},
   "outputs": [
    {
     "name": "stdout",
     "output_type": "stream",
     "text": [
      "x0 = -10 implies -1.0000000000000000 [result.success = True]\n",
      "x0 =  -5 implies -1.0000000000000004 [result.success = True]\n",
      "x0 =   0 implies  0.0000000000000000 [result.success = False]\n",
      "x0 =   5 implies  1.0000000000000004 [result.success = True]\n",
      "x0 =  10 implies  1.0000000000000000 [result.success = True]\n"
     ]
    }
   ],
   "source": [
    "for x0 in [-10,-5,0,5,10]:\n",
    "    result = optimize.root(lambda x: x**2-1,x0)\n",
    "    print(f'{x0 = :3d} implies {result.x[0]:19.16f} [{result.success = :}]')"
   ]
  },
  {
   "cell_type": "markdown",
   "metadata": {},
   "source": [
    "**Symbolic solution:** Find all solutions exactly"
   ]
  },
  {
   "cell_type": "code",
   "execution_count": 36,
   "metadata": {},
   "outputs": [
    {
     "data": {
      "text/latex": [
       "$\\displaystyle \\left\\{-1, 1\\right\\}$"
      ],
      "text/plain": [
       "{-1, 1}"
      ]
     },
     "metadata": {},
     "output_type": "display_data"
    }
   ],
   "source": [
    "result = sm.solveset(x**2-1,)\n",
    "display(result)"
   ]
  },
  {
   "cell_type": "markdown",
   "metadata": {},
   "source": [
    "## 4. <a id='toc4_'></a>[Solving matrix equations symbolically (+)](#toc0_)"
   ]
  },
  {
   "cell_type": "markdown",
   "metadata": {},
   "source": [
    "$$ Ax = b $$"
   ]
  },
  {
   "cell_type": "markdown",
   "metadata": {},
   "source": [
    "**Construct matrix function:**"
   ]
  },
  {
   "cell_type": "code",
   "execution_count": 37,
   "metadata": {},
   "outputs": [],
   "source": [
    "def construct_sympy_matrix(positions,name='a'):\n",
    "    \"\"\" construct sympy matrix with non-zero elements in positions\n",
    "    \n",
    "    Args:\n",
    "    \n",
    "        Positions (list): list of positions in strings, e.g. ['11','31']\n",
    "    \n",
    "    Returns:\n",
    "    \n",
    "        mat (sympy.matrix): Sympy Matrix\n",
    "    \n",
    "    \"\"\"\n",
    "    \n",
    "    # a. dictionary of element with position as key and a_position as value\n",
    "    entries = {f'{ij}':sm.symbols(f'{name}_{ij}') for ij in positions}\n",
    "\n",
    "    # b. function for creating element or zero\n",
    "    add = lambda x: entries[x] if x in entries else 0\n",
    "\n",
    "    # c. create matrix\n",
    "    mat_as_list = [[add(f'{1+i}{1+j}') for j in range(3)] for i in range(3)]\n",
    "    mat = sm.Matrix(mat_as_list)\n",
    "\n",
    "    return mat"
   ]
  },
  {
   "cell_type": "markdown",
   "metadata": {},
   "source": [
    "**Full matrix function:**"
   ]
  },
  {
   "cell_type": "code",
   "execution_count": 38,
   "metadata": {},
   "outputs": [],
   "source": [
    "def fill_sympy_matrix(A_sm,A,name='a'):\n",
    "\n",
    "    n,m = A.shape\n",
    "\n",
    "    # a. make all substitution\n",
    "    A_sm_copy = A_sm\n",
    "    for i in range(n):\n",
    "        for j in range(m):\n",
    "            if not A[i,j] == 0:\n",
    "                A_sm_copy = A_sm_copy.subs(f'{name}_{1+i}{1+j}',A[i,j])\n",
    "    \n",
    "    # b. lambdify with no inputs\n",
    "    f = sm.lambdify((),A_sm_copy)\n",
    "\n",
    "    # c. return filled matrix\n",
    "    return f()"
   ]
  },
  {
   "cell_type": "markdown",
   "metadata": {},
   "source": [
    "**Construct a symbolic matrix:**"
   ]
  },
  {
   "cell_type": "code",
   "execution_count": 39,
   "metadata": {},
   "outputs": [
    {
     "data": {
      "text/latex": [
       "$\\displaystyle \\left[\\begin{matrix}a_{11} & a_{12} & 0\\\\a_{21} & a_{22} & 0\\\\0 & a_{32} & a_{33}\\end{matrix}\\right]$"
      ],
      "text/plain": [
       "Matrix([\n",
       "[a_11, a_12,    0],\n",
       "[a_21, a_22,    0],\n",
       "[   0, a_32, a_33]])"
      ]
     },
     "execution_count": 39,
     "metadata": {},
     "output_type": "execute_result"
    }
   ],
   "source": [
    "A_sm = construct_sympy_matrix(['11','12','21','22','32','33'])\n",
    "A_sm"
   ]
  },
  {
   "cell_type": "markdown",
   "metadata": {},
   "source": [
    "**Find the inverse symbolically:**"
   ]
  },
  {
   "cell_type": "code",
   "execution_count": 40,
   "metadata": {},
   "outputs": [
    {
     "data": {
      "text/latex": [
       "$\\displaystyle \\left[\\begin{matrix}\\frac{a_{22}}{a_{11} a_{22} - a_{12} a_{21}} & - \\frac{a_{12}}{a_{11} a_{22} - a_{12} a_{21}} & 0\\\\- \\frac{a_{21}}{a_{11} a_{22} - a_{12} a_{21}} & \\frac{a_{11}}{a_{11} a_{22} - a_{12} a_{21}} & 0\\\\\\frac{a_{21} a_{32}}{a_{11} a_{22} a_{33} - a_{12} a_{21} a_{33}} & - \\frac{a_{11} a_{32}}{a_{11} a_{22} a_{33} - a_{12} a_{21} a_{33}} & \\frac{1}{a_{33}}\\end{matrix}\\right]$"
      ],
      "text/plain": [
       "Matrix([\n",
       "[               a_22/(a_11*a_22 - a_12*a_21),                -a_12/(a_11*a_22 - a_12*a_21),      0],\n",
       "[              -a_21/(a_11*a_22 - a_12*a_21),                 a_11/(a_11*a_22 - a_12*a_21),      0],\n",
       "[a_21*a_32/(a_11*a_22*a_33 - a_12*a_21*a_33), -a_11*a_32/(a_11*a_22*a_33 - a_12*a_21*a_33), 1/a_33]])"
      ]
     },
     "execution_count": 40,
     "metadata": {},
     "output_type": "execute_result"
    }
   ],
   "source": [
    "A_sm_inv = A_sm.inv()\n",
    "A_sm_inv"
   ]
  },
  {
   "cell_type": "markdown",
   "metadata": {},
   "source": [
    "**Fill in the numeric values:**"
   ]
  },
  {
   "cell_type": "code",
   "execution_count": 41,
   "metadata": {},
   "outputs": [],
   "source": [
    "A = np.array([[3.0,2.0,0.0],[1.0,-1.0,0],[0.0,5.0,1.0]])\n",
    "b = np.array([2.0,4.0,-1.0])"
   ]
  },
  {
   "cell_type": "code",
   "execution_count": 42,
   "metadata": {},
   "outputs": [
    {
     "name": "stdout",
     "output_type": "stream",
     "text": [
      "solution: [ 2. -2.  9.]\n"
     ]
    }
   ],
   "source": [
    "A_inv_num = fill_sympy_matrix(A_sm_inv,A)\n",
    "x = A_inv_num@b\n",
    "print('solution:',x)"
   ]
  },
  {
   "attachments": {},
   "cell_type": "markdown",
   "metadata": {},
   "source": [
    "**Note:** The inverse multiplied by the determinant looks nicer"
   ]
  },
  {
   "cell_type": "code",
   "execution_count": 43,
   "metadata": {},
   "outputs": [
    {
     "data": {
      "text/latex": [
       "$\\displaystyle a_{11} a_{22} a_{33} - a_{12} a_{21} a_{33}$"
      ],
      "text/plain": [
       "a_11*a_22*a_33 - a_12*a_21*a_33"
      ]
     },
     "execution_count": 43,
     "metadata": {},
     "output_type": "execute_result"
    }
   ],
   "source": [
    "A_sm_det = A_sm.det()\n",
    "A_sm_det"
   ]
  },
  {
   "cell_type": "code",
   "execution_count": 44,
   "metadata": {},
   "outputs": [
    {
     "data": {
      "text/latex": [
       "$\\displaystyle \\left[\\begin{matrix}a_{22} a_{33} & - a_{12} a_{33} & 0\\\\- a_{21} a_{33} & a_{11} a_{33} & 0\\\\a_{21} a_{32} & - a_{11} a_{32} & a_{11} a_{22} - a_{12} a_{21}\\end{matrix}\\right]$"
      ],
      "text/plain": [
       "Matrix([\n",
       "[ a_22*a_33, -a_12*a_33,                     0],\n",
       "[-a_21*a_33,  a_11*a_33,                     0],\n",
       "[ a_21*a_32, -a_11*a_32, a_11*a_22 - a_12*a_21]])"
      ]
     },
     "execution_count": 44,
     "metadata": {},
     "output_type": "execute_result"
    }
   ],
   "source": [
    "A_sm_inv_raw = sm.simplify(A_sm_inv*A_sm_det)\n",
    "A_sm_inv_raw"
   ]
  }
 ],
 "metadata": {
  "kernelspec": {
   "display_name": "base",
   "language": "python",
   "name": "python3"
  },
  "language_info": {
   "codemirror_mode": {
    "name": "ipython",
    "version": 3
   },
   "file_extension": ".py",
   "mimetype": "text/x-python",
   "name": "python",
   "nbconvert_exporter": "python",
   "pygments_lexer": "ipython3",
   "version": "3.9.16"
  },
  "toc-autonumbering": true,
  "vscode": {
   "interpreter": {
    "hash": "47ef90cdf3004d3f859f1fb202523c65c07ba7c22eefd261b181f4744e2d0403"
   }
  }
 },
 "nbformat": 4,
 "nbformat_minor": 4
}
