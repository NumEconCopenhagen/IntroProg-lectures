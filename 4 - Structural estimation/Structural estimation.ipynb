{
 "cells": [
  {
   "attachments": {},
   "cell_type": "markdown",
   "metadata": {},
   "source": [
    "# Structural estimation"
   ]
  },
  {
   "cell_type": "markdown",
   "metadata": {},
   "source": [
    "**Table of contents**<a id='toc0_'></a>    \n",
    "- 1. [Model](#toc1_)    \n",
    "- 2. [Simulated Minimum Distance](#toc2_)    \n",
    "- 3. [Estimating our model](#toc3_)    \n",
    "\n",
    "<!-- vscode-jupyter-toc-config\n",
    "\tnumbering=true\n",
    "\tanchor=true\n",
    "\tflat=false\n",
    "\tminLevel=2\n",
    "\tmaxLevel=6\n",
    "\t/vscode-jupyter-toc-config -->\n",
    "<!-- THIS CELL WILL BE REPLACED ON TOC UPDATE. DO NOT WRITE YOUR TEXT IN THIS CELL -->"
   ]
  },
  {
   "attachments": {},
   "cell_type": "markdown",
   "metadata": {},
   "source": [
    "\n",
    "* The great **benefit** of such a model is that it can be used to run **counter factual scenarios** based on economic policy.\n",
    "* But then we need the model to be **empirically relevant**!\n",
    "* When we solved it, we just plugged in some parameters that seemed reasonable.\n",
    "* That is not good enough for proper policy guidance.\n",
    "* We need to estimate the core parameters from data.\n",
    "* This is called **structural estimation**. \n",
    "* Structural estimation means that you impose behavioral structure (given by the model) on your data to get statistical predictions.\n",
    "* In our current example, we impose that people are forward looking, optimizing and derive utility from choices in a certain way. "
   ]
  },
  {
   "cell_type": "code",
   "execution_count": 1,
   "metadata": {},
   "outputs": [],
   "source": [
    "%load_ext autoreload\n",
    "%autoreload 2\n",
    "\n",
    "from types import SimpleNamespace\n",
    "from copy import deepcopy\n",
    "\n",
    "import numpy as np\n",
    "from scipy import optimize\n",
    "\n",
    "import ConsumptionSaving as cs\n",
    "# plotting\n",
    "import matplotlib.pyplot as plt\n",
    "plt.rcParams.update({\"axes.grid\":True,\"grid.color\":\"black\",\"grid.alpha\":\"0.25\",\"grid.linestyle\":\"--\"})\n",
    "plt.rcParams.update({'font.size': 14})"
   ]
  },
  {
   "cell_type": "markdown",
   "metadata": {},
   "source": [
    "## 1. <a id='toc1_'></a>[Model](#toc0_)"
   ]
  },
  {
   "attachments": {},
   "cell_type": "markdown",
   "metadata": {},
   "source": [
    "A household lives for 2 periods and makes decisions on consumption and saving in each period.  \n",
    "\n",
    "**Second period:**\n",
    "\n",
    "$$\n",
    "\\begin{aligned}\n",
    "v_{2}(m_{2})&= \\max_{c_{2}}\\frac{c_{2}^{1-\\rho}}{1-\\rho}+\\nu\\frac{(a_2+\\kappa)^{1-\\rho}}{1-\\rho}\\\\\n",
    "\\text{s.t.} \\\\\n",
    "a_2 &= m_2-c_2 \\\\\n",
    "a_2 &\\geq 0\n",
    "\\end{aligned}\n",
    "$$"
   ]
  },
  {
   "attachments": {},
   "cell_type": "markdown",
   "metadata": {},
   "source": [
    "**First period:**\n",
    "\n",
    "$$\n",
    "\\begin{aligned}\n",
    "v_1(m_1)&=\\max_{c_1}\\frac{c_{1}^{1-\\rho}}{1-\\rho}+\\beta\\mathbb{E}_{1}\\left[v_2(m_2)\\right]\\\\&\\text{s.t.}&\\\\\n",
    "a_1&=m_1-c_1\\\\\n",
    "m_2&= (1+r)(m_1-c_1)+y_2 \\\\\n",
    "y_{2}&= \\begin{cases}\n",
    "1-\\Delta & \\text{with prob. }0.5\\\\\n",
    "1+\\Delta & \\text{with prob. }0.5 \n",
    "\\end{cases}\\\\\n",
    "a_1&\\geq0\n",
    "\\end{aligned}\n",
    "$$"
   ]
  },
  {
   "cell_type": "markdown",
   "metadata": {},
   "source": [
    "<font size=\"5\">How are the parameters of such a model estimated?</font>\n",
    "\n",
    "* We can use **Simulated Minimum Distance** (SMD), aka Simulated Method of Moments, aka matching on moments. \n",
    "* Yes, it is closely related to GMM.\n",
    "* It is a Swiss-army knife of structural estimation, generally available. \n",
    "* Word on the street: *\"if you can simulate it, you can estimate it\"*\n",
    "* Other structural models may be estimated by maximum likelihood (preferable when possible). \n",
    "* Today, we will only look at parameters estimates to get the intuition right. \n",
    "* Standard errors are for another day, see [here](https://github.com/NumEconCopenhagen/ConsumptionSavingNotebooks/blob/master/00.%20DynamicProgramming/04.%20Structural%20Estimation.ipynb) if you are interested. "
   ]
  },
  {
   "cell_type": "markdown",
   "metadata": {},
   "source": [
    "## 2. <a id='toc2_'></a>[Simulated Minimum Distance](#toc0_)"
   ]
  },
  {
   "attachments": {},
   "cell_type": "markdown",
   "metadata": {},
   "source": [
    "**Outline**   \n",
    "1. Define the set of parameters to be estimated, denoted $\\theta$. <br>We set $\\theta = \\{\\rho\\}$, the risk aversion. \n",
    "2. Define a set of moments from data that can identify $\\theta$. (The tricksy part)\n",
    "3. We will use 3 moments: mean consumption in period 1 and 2, and mean variance in consumption across periods.\n",
    "4. These moments are calculated from an empirical data set.\n",
    "5. We then simulate the model with trial values of $\\rho$ until the moments from the simulated data is close to the empirical moments. "
   ]
  },
  {
   "cell_type": "markdown",
   "metadata": {},
   "source": [
    "**Definitions**\n",
    "\n",
    "* We have individual observations on $N^d$ individuals over $T^d$ periods, denoted $w_i$.\n",
    "* We assume that the empirical  data is generated by our model which is parameterized by $\\theta_{dgp}$\n",
    "* We define a moment generating function: \n",
    "    * $\\Lambda = \\frac{1}{N}\\sum_{i=1}^N m(\\theta|w_i)$\n",
    "* As noted $\\Lambda$, holds the mean of $c_1$, mean of $c_2$ and mean of $\\text{var}(c_1,c_2)$\n",
    "* Thus, the moments from data is given by \n",
    "    * $\\Lambda_{data} = \\frac{1}{N^d}\\sum_{i=1}^{N^d} m(\\theta_{dgp}|w_i)$\n",
    "* Given the *guess* $\\theta$ on the data generating parameter $\\theta_{dgp}$, we can simulate the same set of moments from the model.\n",
    "* Therefore, we simulate $N^s$ individuals over $T^s$ periods, and the outcome observation is denoted $w_s$\n",
    "* The simulated set of moments are given by \n",
    "    * $\\Lambda_{sim}(\\theta) = \\frac{1}{N_{sim}}\\sum_{s=1}^{N_{sim}} m(\\theta|w_s)$ \n",
    "* Finally, we define the function $g(\\theta)$, which is the difference between data moments and simulation moments:\n",
    "    * $g(\\theta)=\\Lambda_{data}-\\Lambda_{sim}(\\theta)$"
   ]
  },
  {
   "cell_type": "markdown",
   "metadata": {},
   "source": [
    "**Simulated Minimum Distance (SMD)** estimator is then given by\n",
    "\n",
    "$$\n",
    "\\hat{\\theta} = \\arg\\min_{\\theta} g(\\theta)'Wg(\\theta)\n",
    "$$\n",
    "\n",
    "where $W$ is a **weighting matrix**. $W$ is $J \\times J$, where $J$ is the number of moments. The relative size of elements in $W$ determines the importance of the corresponding moments.   \n",
    "One can derive an optimal $W$, but in practice, the Identity matrix often works well. So in our case:\n",
    "$$ \n",
    "\\begin{aligned}\n",
    "W = \n",
    "\\begin{bmatrix} \n",
    "1 & 0 & 0 \\\\ \n",
    "0 & 1 & 0 \\\\\n",
    "0 & 0 & 1\n",
    "\\end{bmatrix} \n",
    "\\end{aligned}\n",
    "$$\n"
   ]
  },
  {
   "cell_type": "markdown",
   "metadata": {},
   "source": [
    "## 3. <a id='toc3_'></a>[Estimating our model](#toc0_)"
   ]
  },
  {
   "attachments": {},
   "cell_type": "markdown",
   "metadata": {},
   "source": [
    "Based on a set of \"true\" parameters we simulate the model for $N^d$ individuals. The outcome is our \"empirical\" data set. We therefore know exactly what our estimation should lead to."
   ]
  },
  {
   "cell_type": "code",
   "execution_count": 2,
   "metadata": {},
   "outputs": [],
   "source": [
    "par_dgp = SimpleNamespace()\n",
    "par_dgp.rho = 8\n",
    "par_dgp.kappa = 0.5\n",
    "par_dgp.nu = 0.1\n",
    "par_dgp.r = 0.04\n",
    "par_dgp.beta = 0.94\n",
    "par_dgp.Delta = 0.5"
   ]
  },
  {
   "cell_type": "markdown",
   "metadata": {},
   "source": [
    "Create a model object based on true parameters and solve it:"
   ]
  },
  {
   "cell_type": "code",
   "execution_count": 3,
   "metadata": {},
   "outputs": [],
   "source": [
    "true_model = cs.ConsumptionSavingModel(par_dgp)\n",
    "m1,c1,m2,c2 = true_model.solve()"
   ]
  },
  {
   "cell_type": "markdown",
   "metadata": {},
   "source": [
    "Visualize the solution just to be sure that it looks right"
   ]
  },
  {
   "cell_type": "code",
   "execution_count": 4,
   "metadata": {
    "tags": []
   },
   "outputs": [
    {
     "data": {
      "image/png": "[encoded data removed]",
      "text/plain": [
       "<Figure size 640x480 with 1 Axes>"
      ]
     },
     "metadata": {},
     "output_type": "display_data"
    }
   ],
   "source": [
    "fig = plt.figure()\n",
    "ax = fig.add_subplot(1,1,1)\n",
    "ax.plot(m1,c1, label=f'Period {1}')\n",
    "ax.plot(m2,c2, label=f'Period {2}')\n",
    "ax.legend(loc='lower right',facecolor='white',frameon=True)\n",
    "ax.set_xlabel('$m_t$')\n",
    "ax.set_ylabel('$c_t$')\n",
    "ax.set_title('Policy functions')\n",
    "ax.set_xlim([0,2])\n",
    "ax.set_ylim([0,1.5]);"
   ]
  },
  {
   "cell_type": "markdown",
   "metadata": {},
   "source": [
    "Based on the solution, we can create a distribution of initial cash-on-hand, $m_1$, and simulate the following consumption savings paths "
   ]
  },
  {
   "cell_type": "code",
   "execution_count": 5,
   "metadata": {},
   "outputs": [],
   "source": [
    "# Simulate a data set based on the true model\n",
    "simN = 100_000\n",
    "true_model.sim_m1 = np.fmax(np.random.normal(1,0.1,size=simN), 0) #np.fmax: One cannot have negative m\n",
    "data_c1, data_c2 = true_model.simulate() # Simulate choices based on initial m"
   ]
  },
  {
   "cell_type": "markdown",
   "metadata": {},
   "source": [
    "We also need to set up a model for estimation.   \n",
    "We want to estimate $\\rho$. This info is provided as an attribute to the model."
   ]
  },
  {
   "cell_type": "code",
   "execution_count": 6,
   "metadata": {
    "tags": []
   },
   "outputs": [],
   "source": [
    "# Create model object for estimation\n",
    "par = deepcopy(par_dgp)\n",
    "est_model = cs.ConsumptionSavingModel(par)\n",
    "\n",
    "est_model.theta_name = 'rho'\n",
    "est_model.sim_m1 = np.fmax(np.random.normal(1,0.1,size=simN),0)"
   ]
  },
  {
   "cell_type": "markdown",
   "metadata": {},
   "source": [
    "The function $\\Lambda = \\frac{1}{N}\\sum_{i=1}^N m(\\theta|w_i)$ is called `moment_func()`"
   ]
  },
  {
   "cell_type": "code",
   "execution_count": 7,
   "metadata": {
    "tags": []
   },
   "outputs": [],
   "source": [
    "def moment_func(c1, c2):\n",
    "    mom1 = c1.mean()\n",
    "    mom2 = c2.mean()\n",
    "    mom3 = np.var(np.stack((c1, c2)), axis=0).mean() # Averaging the variance of [c_1, c_2] over individuals\n",
    "    return np.array([mom1, mom2, mom3])"
   ]
  },
  {
   "cell_type": "markdown",
   "metadata": {},
   "source": [
    "The function $g(\\theta)=\\Lambda_{data}-\\Lambda_{sim}(\\theta)$ is called `moments_diff()`"
   ]
  },
  {
   "cell_type": "code",
   "execution_count": 8,
   "metadata": {
    "tags": []
   },
   "outputs": [],
   "source": [
    "def moments_diff(model, data_moms):\n",
    "    sim_c1, sim_c2 = model.simulate() # sim_c1 and sim_c2 are arrays \n",
    "    sim_moms = moment_func(sim_c1, sim_c2) \n",
    "    return sim_moms - data_moms "
   ]
  },
  {
   "cell_type": "markdown",
   "metadata": {},
   "source": [
    "Our objective $g(\\theta)'Wg(\\theta)$ is in the function `obj_func()` "
   ]
  },
  {
   "cell_type": "code",
   "execution_count": 9,
   "metadata": {
    "tags": []
   },
   "outputs": [],
   "source": [
    "def obj_func(theta, model, data_moms, W):\n",
    "    setattr(model.par, model.theta_name, theta)\n",
    "    diff = moments_diff(model, data_moms)\n",
    "    obj = diff @ W @ diff\n",
    "    return obj"
   ]
  },
  {
   "cell_type": "markdown",
   "metadata": {},
   "source": [
    "We can now calculate data moments, $\\Lambda_{data}$ and define $W$"
   ]
  },
  {
   "cell_type": "code",
   "execution_count": 10,
   "metadata": {
    "tags": []
   },
   "outputs": [
    {
     "name": "stdout",
     "output_type": "stream",
     "text": [
      "Data moments\n",
      " [0.77123589 0.9918077  0.03268197]\n",
      "Weighting matrix\n",
      " [[1. 0. 0.]\n",
      " [0. 1. 0.]\n",
      " [0. 0. 1.]]\n"
     ]
    }
   ],
   "source": [
    "data_moms = moment_func(data_c1, data_c2)\n",
    "W = np.eye(len(data_moms))\n",
    "\n",
    "print('Data moments\\n', data_moms)\n",
    "print('Weighting matrix\\n',W)"
   ]
  },
  {
   "cell_type": "markdown",
   "metadata": {},
   "source": [
    "We are now ready to estimate!   \n",
    "\n",
    "**The estimation algorithm is as follows:**\n",
    "1. Calculate data moments, define $W$ and initial guess at estimated parameter $\\theta = \\theta^{guess}_0$. Set stopping threshold $\\epsilon > 0$.  \n",
    "2. Solve the model.\n",
    "3. Simulate moments from the solution.\n",
    "4. Calculate the objective based on simulated moments.\n",
    "5. Make a new guess $\\theta^{guess}_1$ \n",
    "6. Perform 2.-4. based on $\\theta^{guess}_1$ \n",
    "7. If the **change** in objective value from the two simulations is below $\\epsilon$, then stop.  \n",
    "    Otherwise reiterate 5.-7."
   ]
  },
  {
   "cell_type": "markdown",
   "metadata": {},
   "source": [
    "**Warning:** Estimation by simulation can be very time consuming.\n",
    "\n",
    "Here we use **Nelder-Mead** as the objective function can be rugged, which it handles well."
   ]
  },
  {
   "cell_type": "code",
   "execution_count": 11,
   "metadata": {},
   "outputs": [
    {
     "data": {
      "text/plain": [
       "       message: Optimization terminated successfully.\n",
       "       success: True\n",
       "        status: 0\n",
       "           fun: 3.58203496868871e-09\n",
       "             x: [ 7.987e+00]\n",
       "           nit: 17\n",
       "          nfev: 41\n",
       " final_simplex: (array([[ 7.987e+00],\n",
       "                       [ 7.987e+00]]), array([ 3.582e-09,  1.142e-06]))"
      ]
     },
     "metadata": {},
     "output_type": "display_data"
    }
   ],
   "source": [
    "# Estimation of rho\n",
    "rho_guess = 6\n",
    "res = optimize.minimize(obj_func, rho_guess, \n",
    "                            args=(est_model, data_moms, W), method='nelder-mead')\n",
    "\n",
    "display(res)"
   ]
  },
  {
   "cell_type": "code",
   "execution_count": 12,
   "metadata": {},
   "outputs": [
    {
     "name": "stdout",
     "output_type": "stream",
     "text": [
      "rho_hat = 7.9874\n"
     ]
    }
   ],
   "source": [
    "print(f'rho_hat = {res.x[0]:1.4f}')"
   ]
  },
  {
   "cell_type": "markdown",
   "metadata": {},
   "source": [
    "**Profile of the objective function**"
   ]
  },
  {
   "cell_type": "code",
   "execution_count": 13,
   "metadata": {},
   "outputs": [],
   "source": [
    "npoints = 20\n",
    "rhos = np.linspace(6.5, 9.5, npoints)\n",
    "obj_vals = np.empty((npoints,))\n",
    "for i,rho in enumerate(rhos):\n",
    "    obj_vals[i] = obj_func(rho, est_model, data_moms, W)"
   ]
  },
  {
   "cell_type": "code",
   "execution_count": null,
   "metadata": {},
   "outputs": [],
   "source": [
    "fig = plt.figure()\n",
    "ax = fig.add_subplot(1,1,1)\n",
    "ax.plot(rhos,obj_vals)\n",
    "ax.set_xlabel(r'$\\rho_{guess}$')\n",
    "ax.set_ylabel('Objective')\n",
    "ax.set_title(r'Profile of objective function. True $\\rho = 8.0$')\n",
    "plt.show()"
   ]
  }
 ],
 "metadata": {
  "kernelspec": {
   "display_name": "base",
   "language": "python",
   "name": "python3"
  },
  "language_info": {
   "codemirror_mode": {
    "name": "ipython",
    "version": 3
   },
   "file_extension": ".py",
   "mimetype": "text/x-python",
   "name": "python",
   "nbconvert_exporter": "python",
   "pygments_lexer": "ipython3",
   "version": "3.10.9"
  },
  "vscode": {
   "interpreter": {
    "hash": "47ef90cdf3004d3f859f1fb202523c65c07ba7c22eefd261b181f4744e2d0403"
   }
  }
 },
 "nbformat": 4,
 "nbformat_minor": 4
}
