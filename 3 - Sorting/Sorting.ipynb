{
 "cells": [
  {
   "cell_type": "markdown",
   "metadata": {},
   "source": [
    "# Sorting"
   ]
  },
  {
   "cell_type": "markdown",
   "metadata": {},
   "source": [
    "**Table of contents**<a id='toc0_'></a>    \n",
    "- 1. [Bubble sort](#toc1_)    \n",
    "- 2. [Insertion sort](#toc2_)    \n",
    "- 3. [Quick sort](#toc3_)    \n",
    "  - 3.1. [Partition](#toc3_1_)    \n",
    "  - 3.2. [Implementing quicksort](#toc3_2_)    \n",
    "- 4. [Advanced: Comparision of performance](#toc4_)    \n",
    "\n",
    "<!-- vscode-jupyter-toc-config\n",
    "\tnumbering=true\n",
    "\tanchor=true\n",
    "\tflat=false\n",
    "\tminLevel=2\n",
    "\tmaxLevel=6\n",
    "\t/vscode-jupyter-toc-config -->\n",
    "<!-- THIS CELL WILL BE REPLACED ON TOC UPDATE. DO NOT WRITE YOUR TEXT IN THIS CELL -->"
   ]
  },
  {
   "cell_type": "code",
   "execution_count": 24,
   "metadata": {},
   "outputs": [],
   "source": [
    "import numpy as np\n",
    "import matplotlib.pyplot as plt\n",
    "plt.rcParams.update({\"axes.grid\":True,\"grid.color\":\"black\",\"grid.alpha\":\"0.25\",\"grid.linestyle\":\"--\"})\n",
    "plt.rcParams.update({'font.size': 14})\n",
    "import time"
   ]
  },
  {
   "attachments": {},
   "cell_type": "markdown",
   "metadata": {},
   "source": [
    "**Links to further material:**  \n",
    "If you feel inspired by the material here, you can try your hand at solving algorithmic challenges at [Project Euler](https://projecteuler.net).  \n",
    "(there are both easy and harder exercises to choose from) "
   ]
  },
  {
   "cell_type": "markdown",
   "metadata": {},
   "source": [
    "Sorting is a super central task of computing. IBM invented it's first computers in the 30s to sort data. \n",
    "\n",
    "Would be hard to keep track of data without sorting. Thus, many algorithms have been developed for this purpose. \n",
    "\n",
    "We will look at a simple algorithm first, the bubble sort, which relies on swapping elements iteratively. \n",
    "\n",
    "Function for **swapping** element `L[i]` with element `L[j]` in-place:"
   ]
  },
  {
   "cell_type": "code",
   "execution_count": 25,
   "metadata": {},
   "outputs": [],
   "source": [
    "def swap(L,i,j):\n",
    "    temp = L[i] # save value in place holder variable\n",
    "    L[i] = L[j] # overwrite value at i with value at j\n",
    "    L[j] = temp # write original value at i to value at j"
   ]
  },
  {
   "cell_type": "markdown",
   "metadata": {},
   "source": [
    "**Example:**"
   ]
  },
  {
   "cell_type": "code",
   "execution_count": 26,
   "metadata": {},
   "outputs": [
    {
     "name": "stdout",
     "output_type": "stream",
     "text": [
      "after swap [3, 1, 4, 9, 13]\n"
     ]
    }
   ],
   "source": [
    "L = [1, 3, 4, 9, 13] \n",
    "swap(L,i=0,j=1)\n",
    "print('after swap',L)"
   ]
  },
  {
   "cell_type": "markdown",
   "metadata": {},
   "source": [
    "## 1. <a id='toc1_'></a>[Bubble sort](#toc0_)"
   ]
  },
  {
   "cell_type": "markdown",
   "metadata": {},
   "source": [
    "**Problem:** Sort a list of numbers in-place.\n",
    "\n",
    "**Inputs:** List of numbers.\n",
    "\n",
    "**Outputs:** None.\n",
    "\n",
    "**Algorithm:** `bubble_sort()`\n",
    "\n",
    "  1. Loop through the first n-1 elements in list, swap with next element if current is larger.\n",
    "  2. Loop through the first n-2 elements in list, swap with next element if current is larger.\n",
    "  <br>\n",
    "  ...\n",
    "  <br>\n",
    "  4. Loop through the first 3 elements in list, swap with next element if current is larger.\n",
    "  5. Swap the two first elements if the first is larger than the second\n",
    "  6. List is sorted\n",
    "  "
   ]
  },
  {
   "cell_type": "code",
   "execution_count": 43,
   "metadata": {},
   "outputs": [
    {
     "name": "stdout",
     "output_type": "stream",
     "text": [
      "[17, 20, 26, 31, 44, 54, 55, 77, 93]\n"
     ]
    }
   ],
   "source": [
    "L = [54, 26, 93, 17, 77, 31, 44, 55, 20] # test list       \n",
    "\n",
    "def bubble_sort(L):\n",
    "    n = len(L)\n",
    "\n",
    "    for k in range(n-1, 0, -1):\n",
    "        for i in range(k):\n",
    "            if L[i]>L[i+1]:\n",
    "                swap(L,i,i+1)\n",
    "\n",
    "bubble_sort(L)\n",
    "print(L)"
   ]
  },
  {
   "cell_type": "code",
   "execution_count": 28,
   "metadata": {},
   "outputs": [
    {
     "name": "stdout",
     "output_type": "stream",
     "text": [
      "sorted L: [17, 20, 26, 31, 44, 54, 55, 77, 93]\n"
     ]
    }
   ],
   "source": [
    "def bubble_sort(L):\n",
    "    \"\"\" bubble sort\n",
    "    \n",
    "    Args:\n",
    "    \n",
    "        L (list): List of numbers\n",
    "        \n",
    "    \"\"\"\n",
    "    \n",
    "    # k starts being len(L)-1 and is decreased by 1 until hitting 0\n",
    "    for k in range(len(L)-1,0,-1):\n",
    "        for i in range(k):\n",
    "            if L[i] > L[i+1]:\n",
    "                swap(L,i,i+1)\n",
    "    \n",
    "L = [54, 26, 93, 17, 77, 31, 44, 55, 20]\n",
    "bubble_sort(L)\n",
    "print('sorted L:',L)"
   ]
  },
  {
   "cell_type": "code",
   "execution_count": 29,
   "metadata": {
    "jupyter": {
     "source_hidden": true
    },
    "tags": []
   },
   "outputs": [
    {
     "data": {
      "image/jpeg": "[encoded data removed]",
      "text/html": [
       "\n",
       "        <iframe\n",
       "            width=\"800\"\n",
       "            height=\"600\"\n",
       "            src=\"https://www.youtube.com/embed/lyZQPjUT5B4?start=45\"\n",
       "            frameborder=\"0\"\n",
       "            allowfullscreen\n",
       "            \n",
       "        ></iframe>\n",
       "        "
      ],
      "text/plain": [
       "<IPython.lib.display.YouTubeVideo at 0x26799c27130>"
      ]
     },
     "execution_count": 29,
     "metadata": {},
     "output_type": "execute_result"
    }
   ],
   "source": [
    "from IPython.display import YouTubeVideo\n",
    "YouTubeVideo('lyZQPjUT5B4', width=800, height=600, start=45)"
   ]
  },
  {
   "cell_type": "markdown",
   "metadata": {},
   "source": [
    "**Another visualization of bubble sort**  \n",
    "![bubble](https://upload.wikimedia.org/wikipedia/commons/5/54/Sorting_bubblesort_anim.gif)"
   ]
  },
  {
   "cell_type": "markdown",
   "metadata": {},
   "source": [
    "**Illustration with printout:**"
   ]
  },
  {
   "cell_type": "code",
   "execution_count": 30,
   "metadata": {},
   "outputs": [
    {
     "name": "stdout",
     "output_type": "stream",
     "text": [
      "original [54, 26, 93, 17, 77, 31, 44, 55, 20] \n",
      "\n",
      "step = 1\n",
      "[26, 54, 93, 17, 77, 31, 44, 55, 20]\n",
      "[26, 54, 93, 17, 77, 31, 44, 55, 20]\n",
      "[26, 54, 17, 93, 77, 31, 44, 55, 20]\n",
      "[26, 54, 17, 77, 93, 31, 44, 55, 20]\n",
      "[26, 54, 17, 77, 31, 93, 44, 55, 20]\n",
      "[26, 54, 17, 77, 31, 44, 93, 55, 20]\n",
      "[26, 54, 17, 77, 31, 44, 55, 93, 20]\n",
      "[26, 54, 17, 77, 31, 44, 55, 20, 93]\n",
      "\n",
      "step = 2\n",
      "[26, 54, 17, 77, 31, 44, 55, 20, 93]\n",
      "[26, 17, 54, 77, 31, 44, 55, 20, 93]\n",
      "[26, 17, 54, 77, 31, 44, 55, 20, 93]\n",
      "[26, 17, 54, 31, 77, 44, 55, 20, 93]\n",
      "[26, 17, 54, 31, 44, 77, 55, 20, 93]\n",
      "[26, 17, 54, 31, 44, 55, 77, 20, 93]\n",
      "[26, 17, 54, 31, 44, 55, 20, 77, 93]\n",
      "\n",
      "step = 3\n",
      "[17, 26, 54, 31, 44, 55, 20, 77, 93]\n",
      "[17, 26, 54, 31, 44, 55, 20, 77, 93]\n",
      "[17, 26, 31, 54, 44, 55, 20, 77, 93]\n",
      "[17, 26, 31, 44, 54, 55, 20, 77, 93]\n",
      "[17, 26, 31, 44, 54, 55, 20, 77, 93]\n",
      "[17, 26, 31, 44, 54, 20, 55, 77, 93]\n",
      "\n",
      "step = 4\n",
      "[17, 26, 31, 44, 54, 20, 55, 77, 93]\n",
      "[17, 26, 31, 44, 54, 20, 55, 77, 93]\n",
      "[17, 26, 31, 44, 54, 20, 55, 77, 93]\n",
      "[17, 26, 31, 44, 54, 20, 55, 77, 93]\n",
      "[17, 26, 31, 44, 20, 54, 55, 77, 93]\n",
      "\n",
      "step = 5\n",
      "[17, 26, 31, 44, 20, 54, 55, 77, 93]\n",
      "[17, 26, 31, 44, 20, 54, 55, 77, 93]\n",
      "[17, 26, 31, 44, 20, 54, 55, 77, 93]\n",
      "[17, 26, 31, 20, 44, 54, 55, 77, 93]\n",
      "\n",
      "step = 6\n",
      "[17, 26, 31, 20, 44, 54, 55, 77, 93]\n",
      "[17, 26, 31, 20, 44, 54, 55, 77, 93]\n",
      "[17, 26, 20, 31, 44, 54, 55, 77, 93]\n",
      "\n",
      "step = 7\n",
      "[17, 26, 20, 31, 44, 54, 55, 77, 93]\n",
      "[17, 20, 26, 31, 44, 54, 55, 77, 93]\n",
      "\n",
      "step = 8\n",
      "[17, 20, 26, 31, 44, 54, 55, 77, 93]\n",
      "\n"
     ]
    }
   ],
   "source": [
    "def bubble_sort_with_print(L):\n",
    "    for k in range(len(L)-1,0,-1):\n",
    "        print(f'step = {len(L)-k}')\n",
    "        for i in range(k):\n",
    "            if L[i] > L[i+1]:\n",
    "                swap(L,i,i+1)\n",
    "            print(L)                \n",
    "        print('')\n",
    "        \n",
    "L = [54, 26, 93, 17, 77, 31, 44, 55, 20]        \n",
    "print('original',L,'\\n')\n",
    "bubble_sort_with_print(L)"
   ]
  },
  {
   "cell_type": "markdown",
   "metadata": {},
   "source": [
    "## 2. <a id='toc2_'></a>[Insertion sort](#toc0_)"
   ]
  },
  {
   "attachments": {},
   "cell_type": "markdown",
   "metadata": {},
   "source": [
    "**Algorithm:** `insertion_sort()`\n",
    "\n",
    "  1. Consider the *second* element. Insert it correctly in the list of the numbers before the *second* element.\n",
    "  2. Consider the *third*  element. Insert it correctly in the list of the numbers before the *third* element.\n",
    "  <br>\n",
    "  ...\n",
    "  <br>\n",
    "  4. Consider the n'th element. Insert it correctly in the list of the numbers before the *n'th* element.\n",
    "  5. List is sorted\n",
    "  "
   ]
  },
  {
   "attachments": {},
   "cell_type": "markdown",
   "metadata": {},
   "source": [
    "**Illustration:**\n",
    "\n",
    "<img src=\"insertionsort.png\" alt=\"insertionsort\" width=50% />"
   ]
  },
  {
   "cell_type": "code",
   "execution_count": 44,
   "metadata": {},
   "outputs": [
    {
     "name": "stdout",
     "output_type": "stream",
     "text": [
      "[17, 20, 26, 31, 44, 54, 55, 77, 93]\n"
     ]
    }
   ],
   "source": [
    "L = [54, 26, 93, 17, 77, 31, 44, 55, 20] # test list\n",
    "\n",
    "def insertion_sort(L):\n",
    "    n = len(L)\n",
    "\n",
    "    for k in range(1, n):\n",
    "        val = L[k]\n",
    "        i = k\n",
    "        while i>0 and val<L[i-1]:\n",
    "            L[i] = L[i-1]\n",
    "            i -= 1\n",
    "        L[i] = val\n",
    "\n",
    "insertion_sort(L)\n",
    "print(L)"
   ]
  },
  {
   "cell_type": "code",
   "execution_count": 32,
   "metadata": {},
   "outputs": [
    {
     "name": "stdout",
     "output_type": "stream",
     "text": [
      "sorted [17, 20, 26, 31, 44, 54, 55, 77, 93]\n"
     ]
    }
   ],
   "source": [
    "def insertion_sort(L):\n",
    "    \"\"\" insertion sort\n",
    "    \n",
    "    Args:\n",
    "    \n",
    "        L (list): List of numbers\n",
    "        \n",
    "    \"\"\"\n",
    "    \n",
    "    # loop over last n-1 elements, skipping the 1st element (see range func).  \n",
    "    n = len(L)\n",
    "    for k in range(1,n): \n",
    "        \n",
    "        # a. current value and position\n",
    "        x = L[k]\n",
    "        i = k\n",
    "        \n",
    "        # b. move left while larger: a bubble sort at heart\n",
    "        while i > 0 and L[i-1] > x:         \n",
    "            L[i] = L[i-1] # move\n",
    "            i = i-1\n",
    "        \n",
    "        # c. insert current value\n",
    "        L[i] = x\n",
    "\n",
    "L = [54, 26, 93, 17, 77, 31, 44, 55, 20]\n",
    "insertion_sort(L)\n",
    "print('sorted',L)"
   ]
  },
  {
   "cell_type": "markdown",
   "metadata": {},
   "source": [
    "**Benefits relative to bubble sort:**\n",
    "\n",
    "1. Moves instead of swaps, 1 operation less.\n",
    "2. Data is often **partially sorted** to begin with. Insertion sort benefits from that."
   ]
  },
  {
   "cell_type": "markdown",
   "metadata": {},
   "source": [
    "## 3. <a id='toc3_'></a>[Quick sort](#toc0_)"
   ]
  },
  {
   "cell_type": "markdown",
   "metadata": {},
   "source": [
    "### 3.1. <a id='toc3_1_'></a>[Partition](#toc0_)"
   ]
  },
  {
   "cell_type": "markdown",
   "metadata": {},
   "source": [
    "*Intermezzo: Solving the partition problem is useful for a so-called quicksort.*"
   ]
  },
  {
   "attachments": {},
   "cell_type": "markdown",
   "metadata": {},
   "source": [
    "**Problem:** Permute a list and return a splitpoint such that all elements before the point is smaller than or equal to the first element in the original list, and all elements afterwards are strictly larger.\n",
    "\n",
    "**Input:** List of numbers.\n",
    "\n",
    "**Output:** Integer.\n",
    "\n",
    "**Algorithm:**\n",
    "\n",
    "0. Let splitting point be first element of list.\n",
    "1. From the *left* find the first element larger than split point (leftmark).\n",
    "2. From the *right* find the first element smaller than the split point (rightmark).\n",
    "3. Swap these two elements.\n",
    "4. Repeat 1-3 starting from previous leftmark and rightmark. Continue until leftmark is larger than rightmark.\n",
    "5. Swap first and rightmark element.\n",
    "6. Return the rightmark."
   ]
  },
  {
   "attachments": {},
   "cell_type": "markdown",
   "metadata": {},
   "source": [
    "<img src=\"quicksort.png\" alt=\"quicksort\" width=60% />"
   ]
  },
  {
   "cell_type": "code",
   "execution_count": 33,
   "metadata": {},
   "outputs": [],
   "source": [
    "def partition(L,first,last):\n",
    "    \"\"\" partition\n",
    "    \n",
    "    Permute a list and return a splitpoint, such that all elements before \n",
    "    is larger than or equal to the first element in the original list, \n",
    "    and all elements afterwards are strictly larger.\n",
    "    \n",
    "    Args:\n",
    "    \n",
    "        L (list): List of numbers\n",
    "        first (integer): Startpoint\n",
    "        last (integer): Endpoint\n",
    "    \n",
    "    Returns:\n",
    "    \n",
    "        splitpoint (integer): \n",
    "        \n",
    "    \"\"\"\n",
    "    \n",
    "    # a. initialize\n",
    "    splitvalue = L[first]\n",
    "    leftmark = first+1\n",
    "    rightmark = last\n",
    "\n",
    "    # b. find splitpoint\n",
    "    done = False\n",
    "    while not done:\n",
    "\n",
    "        # i. find leftmark\n",
    "        while leftmark <= rightmark and L[leftmark] <= splitvalue :\n",
    "            leftmark = leftmark + 1\n",
    "        \n",
    "        # i. find rightmark\n",
    "        while rightmark >= leftmark and L[rightmark] >= splitvalue:\n",
    "            rightmark = rightmark -1\n",
    "\n",
    "        # iii. check if done or swap left and right\n",
    "        if rightmark < leftmark:\n",
    "            done = True\n",
    "        else:\n",
    "            swap(L,leftmark,rightmark)\n",
    "\n",
    "    # c. final swap\n",
    "    swap(L,first,rightmark)\n",
    "\n",
    "    return rightmark\n"
   ]
  },
  {
   "cell_type": "code",
   "execution_count": 34,
   "metadata": {},
   "outputs": [
    {
     "name": "stdout",
     "output_type": "stream",
     "text": [
      "before [54, 26, 93, 17, 77, 31, 44, 55, 20]\n",
      "after [31, 26, 20, 17, 44, 54, 77, 55, 93]\n",
      "split [31, 26, 20, 17, 44, 54] [77, 55, 93]\n"
     ]
    }
   ],
   "source": [
    "L = [54, 26, 93, 17, 77, 31, 44, 55, 20]\n",
    "print('before',L)\n",
    "splitpoint = partition(L,0,len(L)-1)\n",
    "print('after',L)\n",
    "print('split',L[:splitpoint+1],L[splitpoint+1:])"
   ]
  },
  {
   "cell_type": "markdown",
   "metadata": {},
   "source": [
    "### 3.2. <a id='toc3_2_'></a>[Implementing quicksort](#toc0_)"
   ]
  },
  {
   "cell_type": "markdown",
   "metadata": {},
   "source": [
    "**Algorithm:** `quick_sort()`\n",
    "\n",
    "1. Recursively partition the list and the sub-lists when splitting at the splitpoint.\n",
    "2. The list is now sorted."
   ]
  },
  {
   "cell_type": "code",
   "execution_count": 35,
   "metadata": {},
   "outputs": [],
   "source": [
    "def quick_sort(L):\n",
    "    _quick_sort(L,0,len(L)-1)\n",
    "\n",
    "def _quick_sort(L,first,last):\n",
    "   \n",
    "    if first < last:\n",
    "\n",
    "        splitpoint = partition(L,first,last)    \n",
    "        _quick_sort(L,first,splitpoint-1) # left part\n",
    "        _quick_sort(L,splitpoint+1,last) # right part"
   ]
  },
  {
   "cell_type": "code",
   "execution_count": 36,
   "metadata": {},
   "outputs": [
    {
     "name": "stdout",
     "output_type": "stream",
     "text": [
      "sorted [17, 20, 26, 31, 44, 54, 55, 77, 93]\n"
     ]
    }
   ],
   "source": [
    "L = [54, 26, 93, 17, 77, 31, 44, 55, 20]\n",
    "quick_sort(L)\n",
    "print('sorted',L)"
   ]
  },
  {
   "cell_type": "markdown",
   "metadata": {},
   "source": [
    "**Visualization of quicksort**  \n",
    "![quicksort](https://upload.wikimedia.org/wikipedia/commons/6/6a/Sorting_quicksort_anim.gif)"
   ]
  },
  {
   "attachments": {},
   "cell_type": "markdown",
   "metadata": {},
   "source": [
    "If you want to learn even more about sorting algorithms you can start [here](https://runestone.academy/ns/books/published/pythonds/SortSearch/TheQuickSort.html)"
   ]
  },
  {
   "attachments": {},
   "cell_type": "markdown",
   "metadata": {},
   "source": [
    "In the advanced section we'll compare performance of the different methods. <br>\n",
    "Spoiler: The functions and methods already implemented in official packages are hard to beat."
   ]
  },
  {
   "cell_type": "markdown",
   "metadata": {},
   "source": [
    "## 4. <a id='toc4_'></a>[Advanced: Comparision of performance](#toc0_)"
   ]
  },
  {
   "cell_type": "markdown",
   "metadata": {},
   "source": [
    "Lets us compare the different sorting algorithm:\n",
    "\n",
    "1. Bubble\n",
    "2. Insertion\n",
    "3. Quick\n",
    "4. Quick (as implemented in Numpy)"
   ]
  },
  {
   "cell_type": "code",
   "execution_count": 37,
   "metadata": {},
   "outputs": [
    {
     "data": {
      "image/png": "[encoded data removed]",
      "text/plain": [
       "<Figure size 640x480 with 1 Axes>"
      ]
     },
     "metadata": {},
     "output_type": "display_data"
    }
   ],
   "source": [
    "# a. settings\n",
    "n_vec = np.array([100,200,300,400,500,750,1000,1500,2000,4000,8000,16000]) # number of elements in list\n",
    "K = 50 # number of repetitions when timing\n",
    "\n",
    "# b. allocate vectors for results\n",
    "bubble = np.empty(len(n_vec))\n",
    "insertion = np.empty(len(n_vec))\n",
    "quick = np.empty(len(n_vec))\n",
    "quicknp = np.empty(len(n_vec))\n",
    "\n",
    "# c. run time trials\n",
    "np.random.seed(1999)\n",
    "for i,n in enumerate(n_vec):\n",
    "    \n",
    "    # i. draw K random lists of lenght n\n",
    "    L_bubble = []\n",
    "    L_insertion = []\n",
    "    L_quick = []\n",
    "    L_quicknp = []\n",
    "    for k in range(K):\n",
    "        L = np.random.uniform(size=n)\n",
    "        np.random.shuffle(L)\n",
    "        L_bubble.append(L.copy())\n",
    "        L_insertion.append(L.copy())\n",
    "        L_quick.append(L.copy())\n",
    "        L_quicknp.append(L.copy())\n",
    "        \n",
    "    # ii. bubble sort\n",
    "    if n <= 500:\n",
    "        t0 = time.time() # start timer\n",
    "        for k in range(K):\n",
    "            bubble_sort(L_bubble[k])\n",
    "        bubble[i] = time.time()-t0 # calculate time since start\n",
    "    else: \n",
    "        bubble[i] = np.nan\n",
    "        \n",
    "    # ii. insertion sort\n",
    "    if n <= 500:\n",
    "        t0 = time.time()\n",
    "        for k in range(K):\n",
    "            insertion_sort(L_insertion[k])\n",
    "        insertion[i] = time.time()-t0\n",
    "    else: \n",
    "        insertion[i] = np.nan\n",
    "        \n",
    "    # iii. quicksort\n",
    "    if n <= 2000:\n",
    "        t0 = time.time()\n",
    "        for k in range(K):\n",
    "            quick_sort(L_quick[k])\n",
    "        quick[i] = time.time()-t0\n",
    "    else: \n",
    "        quick[i] = np.nan\n",
    "        \n",
    "    # iii. quicksort (numpy implementation)    \n",
    "    t0 = time.time()\n",
    "    for k in range(K):\n",
    "        L_quicknp[k].sort() # built-in numpy method\n",
    "    quicknp[i] = time.time()-t0\n",
    "    \n",
    "    # iv. check that all sorted lists are the same\n",
    "    for k in range(K):\n",
    "        if n <= 500:\n",
    "            assert np.all(L_bubble[k] == L_quick[k])\n",
    "            assert np.all(L_insertion[k] == L_quick[k])\n",
    "        if n <= 2000:\n",
    "            assert np.all(L_quicknp[k] == L_quick[k])\n",
    "    \n",
    "# d. figure    \n",
    "I = n_vec <= 2000\n",
    "fig = plt.figure()\n",
    "ax = fig.add_subplot(1,1,1)\n",
    "ax.plot(n_vec[I],bubble[I],label='bubble')\n",
    "ax.plot(n_vec[I],insertion[I],label='insertion')\n",
    "ax.plot(n_vec[I],quick[I],label='quick')\n",
    "ax.plot(n_vec[I],quicknp[I],label='quick (numpy)')\n",
    "ax.set_xlabel('number of elements')\n",
    "ax.set_ylabel('seconds')\n",
    "ax.legend(facecolor='white',frameon=True);"
   ]
  },
  {
   "cell_type": "code",
   "execution_count": 38,
   "metadata": {},
   "outputs": [
    {
     "data": {
      "image/png": "[encoded data removed]",
      "text/plain": [
       "<Figure size 640x480 with 1 Axes>"
      ]
     },
     "metadata": {},
     "output_type": "display_data"
    }
   ],
   "source": [
    "fig = plt.figure()\n",
    "ax = fig.add_subplot(1,1,1)\n",
    "ax.plot(n_vec,quicknp,label='quick (numpy)')\n",
    "ax.set_xlabel('number of elements')\n",
    "ax.set_ylabel('seconds')\n",
    "ax.legend(facecolor='white',frameon=True);"
   ]
  },
  {
   "cell_type": "markdown",
   "metadata": {},
   "source": [
    "**Take-aways:** \n",
    "\n",
    "1. Complexity matters\n",
    "2. Implementation matter (and the built-in functions and methods are hard to beat)"
   ]
  }
 ],
 "metadata": {
  "kernelspec": {
   "display_name": "base",
   "language": "python",
   "name": "python3"
  },
  "language_info": {
   "codemirror_mode": {
    "name": "ipython",
    "version": 3
   },
   "file_extension": ".py",
   "mimetype": "text/x-python",
   "name": "python",
   "nbconvert_exporter": "python",
   "pygments_lexer": "ipython3",
   "version": "3.9.16"
  },
  "orig_nbformat": 4,
  "vscode": {
   "interpreter": {
    "hash": "2164e4eaf16dd6cd705646718fcef4f5f263bad5b7d103e76e9308c0132ca24b"
   }
  }
 },
 "nbformat": 4,
 "nbformat_minor": 2
}
